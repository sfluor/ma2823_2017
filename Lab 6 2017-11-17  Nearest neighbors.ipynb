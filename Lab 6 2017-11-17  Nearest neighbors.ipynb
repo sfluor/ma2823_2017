{
 "cells": [
  {
   "cell_type": "markdown",
   "metadata": {},
   "source": [
    "# 2017-11-17: Nearest Neighbors\n",
    "\n",
    "In this lab, we will apply nearest neighbors classification to the Endometrium vs. Uterus cancer data. For documentation, see:\n",
    "* http://scikit-learn.org/stable/modules/neighbors.html#nearest-neighbors-classification; and \n",
    "* http://scikit-learn.org/stable/modules/generated/sklearn.neighbors.KNeighborsClassifier.html#sklearn.neighbors.KNeighborsClassifier\n",
    "\n",
    "We will implement our own nearest neighbors classifier and compare the results with the in-built classifiers offered by scikit-learn. \n",
    "\n",
    "Let us start by setting up our environment, loading the data, and setting up our cross-validation."
   ]
  },
  {
   "cell_type": "code",
   "execution_count": 1,
   "metadata": {},
   "outputs": [
    {
     "name": "stdout",
     "output_type": "stream",
     "text": [
      "Populating the interactive namespace from numpy and matplotlib\n"
     ]
    }
   ],
   "source": [
    "import numpy as np\n",
    "import pandas as pd\n",
    "%pylab inline"
   ]
  },
  {
   "cell_type": "markdown",
   "metadata": {},
   "source": [
    "Load the data as in the previous labs. We will use `small_Endometrium_Uterus.csv` for this lab."
   ]
  },
  {
   "cell_type": "code",
   "execution_count": 2,
   "metadata": {},
   "outputs": [
    {
     "name": "stdout",
     "output_type": "stream",
     "text": [
      "(183, 3000)\n"
     ]
    },
    {
     "data": {
      "text/plain": [
       "<matplotlib.collections.PathCollection at 0x7faedaf7ba58>"
      ]
     },
     "execution_count": 2,
     "metadata": {},
     "output_type": "execute_result"
    },
    {
     "data": {
      "image/png": "iVBORw0KGgoAAAANSUhEUgAAAYcAAAD8CAYAAACcjGjIAAAABHNCSVQICAgIfAhkiAAAAAlwSFlz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\n",
      "text/plain": [
       "<matplotlib.figure.Figure at 0x7faee3c52e80>"
      ]
     },
     "metadata": {},
     "output_type": "display_data"
    }
   ],
   "source": [
    "from sklearn import preprocessing\n",
    "\n",
    "# load the endometrium vs. uterus tumor data\n",
    "endometrium_data = pd.read_csv('data/small_Endometrium_Uterus.csv', sep=\",\")  # load data\n",
    "endometrium_data.head(n=5)  # adjust n to view more data\n",
    "\n",
    "# Create the design matrix and target vector\n",
    "X_clf = endometrium_data.drop(['ID_REF', 'Tissue'], axis=1).values\n",
    "y_clf = pd.get_dummies(endometrium_data['Tissue']).values[:,1]\n",
    "\n",
    "print(X_clf.shape)\n",
    "plt.scatter(X_clf[:,0], X_clf[:,1], c=y_clf)"
   ]
  },
  {
   "cell_type": "markdown",
   "metadata": {},
   "source": [
    "Recall functions we had used to create cross validation folds in the previous labs. Redefine them here. \n",
    "\n",
    "*Note* : We shall call this *m*-fold cross validation, unlike *k*-fold, which we used in our previous labs, to distinguish it from *k*-nearest neighbors classification. This emphasizes that the two parameters are indeed different from each other."
   ]
  },
  {
   "cell_type": "code",
   "execution_count": 3,
   "metadata": {},
   "outputs": [],
   "source": [
    "from sklearn import model_selection\n",
    "\n",
    "def stratifiedMFolds(y, num_folds):\n",
    "    kf = model_selection.StratifiedKFold(n_splits=num_folds)\n",
    "    folds_regr = [(tr, te) for (tr, te) in kf.split(np.zeros(y.size), y)]\n",
    "    return folds_regr"
   ]
  },
  {
   "cell_type": "markdown",
   "metadata": {},
   "source": [
    "Now create 10 cross validate folds on the data. "
   ]
  },
  {
   "cell_type": "code",
   "execution_count": 4,
   "metadata": {},
   "outputs": [],
   "source": [
    "cv_folds = stratifiedMFolds(y_clf, 10)"
   ]
  },
  {
   "cell_type": "markdown",
   "metadata": {},
   "source": [
    "Import the previously written cross validation function."
   ]
  },
  {
   "cell_type": "code",
   "execution_count": 5,
   "metadata": {},
   "outputs": [],
   "source": [
    "# let's redefine the cross-validation procedure with standardization\n",
    "from sklearn import preprocessing\n",
    "def cross_validate(design_matrix, labels, regressor, cv_folds):\n",
    "    \"\"\" Perform a cross-validation and returns the predictions. \n",
    "    Use a scaler to scale the features to mean 0, standard deviation 1.\n",
    "    \n",
    "    Parameters:\n",
    "    -----------\n",
    "    design_matrix: (n_samples, n_features) np.array\n",
    "        Design matrix for the experiment.\n",
    "    labels: (n_samples, ) np.array\n",
    "        Vector of labels.\n",
    "    classifier:  Regressor instance; must have the following methods:\n",
    "        - fit(X, y) to train the regressor on the data X, y\n",
    "        - predict_proba(X) to apply the trained regressor to the data X and return predicted values\n",
    "    cv_folds: sklearn cross-validation object\n",
    "        Cross-validation iterator.\n",
    "        \n",
    "    Return:\n",
    "    -------\n",
    "    pred: (n_samples, ) np.array\n",
    "        Vectors of predictions (same order as labels).\n",
    "    \"\"\"\n",
    "    \n",
    "    n_classes = np.unique(labels).size\n",
    "    pred = np.zeros((labels.shape[0], n_classes))\n",
    "    for tr, te in cv_folds:\n",
    "        scaler = preprocessing.StandardScaler()\n",
    "        Xtr = scaler.fit_transform(design_matrix[tr,:])\n",
    "        ytr =  labels[tr]\n",
    "        Xte = scaler.transform(design_matrix[te,:])\n",
    "        regressor.fit(Xtr, ytr)\n",
    "        pred[te, :] = regressor.predict_proba(Xte)\n",
    "    return pred"
   ]
  },
  {
   "cell_type": "markdown",
   "metadata": {},
   "source": [
    "# 1. *k*-Nearest Neighbours Classifier"
   ]
  },
  {
   "cell_type": "markdown",
   "metadata": {},
   "source": [
    "A k-neighbours classifier can be initialised as `knn_clf = sklearn.neighbors.KNeighborsClassifier(n_neighbors=k)`\n",
    "\n",
    "Cross validate 20 *k*-NN classifiers on the loaded datset using `cross_validate`. "
   ]
  },
  {
   "cell_type": "code",
   "execution_count": 7,
   "metadata": {},
   "outputs": [],
   "source": [
    "from sklearn import neighbors\n",
    "from sklearn import metrics\n",
    "\n",
    "aurocs_clf = []\n",
    "# Create a range of values of k. We will use this throughout the lab.\n",
    "k_range    = range(1,40,2) \n",
    "\n",
    "for k in k_range:\n",
    "    clf    = neighbors.KNeighborsClassifier(n_neighbors=k)\n",
    "    y_pred = cross_validate(X_clf, y_clf, clf, cv_folds)\n",
    "    \n",
    "    fpr, tpr, thresholdss = metrics.roc_curve(y_clf, y_pred[:,1])\n",
    "    aurocs_clf.append(metrics.auc(fpr,tpr))"
   ]
  },
  {
   "cell_type": "markdown",
   "metadata": {},
   "source": [
    "Now plot the AUC as a function of the number of nearest neighbours chosen."
   ]
  },
  {
   "cell_type": "code",
   "execution_count": 8,
   "metadata": {},
   "outputs": [
    {
     "data": {
      "text/plain": [
       "<matplotlib.text.Text at 0x7faed772f0b8>"
      ]
     },
     "execution_count": 8,
     "metadata": {},
     "output_type": "execute_result"
    },
    {
     "data": {
      "image/png": "iVBORw0KGgoAAAANSUhEUgAAAYsAAAEWCAYAAACXGLsWAAAABHNCSVQICAgIfAhkiAAAAAlwSFlz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\nAABJRU5ErkJggg==\n",
      "text/plain": [
       "<matplotlib.figure.Figure at 0x7faed775e7b8>"
      ]
     },
     "metadata": {},
     "output_type": "display_data"
    }
   ],
   "source": [
    "plt.plot(k_range, aurocs_clf, color='blue')\n",
    "plt.xlabel('Number of nearest neighbours')\n",
    "plt.ylabel('Cross-validated AUC')\n",
    "plt.title('Nearest neighbours classification - cross validated AUC.')"
   ]
  },
  {
   "cell_type": "markdown",
   "metadata": {},
   "source": [
    "**Question.** Find the best value for the parameter `n_neighbors` by finding the one that gives the maximum value of AUC."
   ]
  },
  {
   "cell_type": "code",
   "execution_count": 11,
   "metadata": {},
   "outputs": [
    {
     "name": "stdout",
     "output_type": "stream",
     "text": [
      "29\n"
     ]
    }
   ],
   "source": [
    "best_k = np.argmax(aurocs_clf)\n",
    "print(k_range[best_k])"
   ]
  },
  {
   "cell_type": "markdown",
   "metadata": {},
   "source": [
    "Let us now use `sklearn.model_selection.GridSearchCV` do to the same. The parameter to be cross-validated is the number of nearest neighbours to choose. Use an appropriate list to feed to `GridSearchCV` to find the best value for the nearest neighbours parameter."
   ]
  },
  {
   "cell_type": "code",
   "execution_count": 12,
   "metadata": {},
   "outputs": [
    {
     "data": {
      "text/plain": [
       "GridSearchCV(cv=[(array([ 19,  20, ..., 181, 182]), array([ 0,  1,  2,  3,  4,  5,  6,  7,  8,  9, 10, 11, 12, 13, 14, 15, 16,\n",
       "       17, 18, 25])), (array([  0,   1, ..., 181, 182]), array([19, 20, 21, 22, 23, 24, 26, 27, 28, 29, 30, 31, 32, 33, 34, 35, 36,\n",
       "       37, 44])), (array([  0,   1, ..., 181, 182]), a...[165, 166, 167, 168, 169, 170, 171, 172, 173, 174, 175, 176, 177,\n",
       "       178, 179, 180, 181, 182]))],\n",
       "       error_score='raise',\n",
       "       estimator=KNeighborsClassifier(algorithm='auto', leaf_size=30, metric='minkowski',\n",
       "           metric_params=None, n_jobs=1, n_neighbors=5, p=2,\n",
       "           weights='uniform'),\n",
       "       fit_params=None, iid=True, n_jobs=1,\n",
       "       param_grid={'n_neighbors': range(1, 40, 2)},\n",
       "       pre_dispatch='2*n_jobs', refit=True, return_train_score=True,\n",
       "       scoring=None, verbose=0)"
      ]
     },
     "execution_count": 12,
     "metadata": {},
     "output_type": "execute_result"
    }
   ],
   "source": [
    "from sklearn import model_selection\n",
    "from sklearn import metrics\n",
    "\n",
    "classifier = neighbors.KNeighborsClassifier()\n",
    "param_grid = {\"n_neighbors\": k_range} \n",
    "clf_knn_opt = model_selection.GridSearchCV(classifier,  param_grid=param_grid, cv=cv_folds)\n",
    "clf_knn_opt.fit( X_clf,\n",
    "                 y_clf \n",
    "               )"
   ]
  },
  {
   "cell_type": "code",
   "execution_count": 13,
   "metadata": {},
   "outputs": [
    {
     "name": "stdout",
     "output_type": "stream",
     "text": [
      "{'n_neighbors': 25}\n"
     ]
    }
   ],
   "source": [
    "# Find the best parameter\n",
    "print(clf_knn_opt.best_params_)"
   ]
  },
  {
   "cell_type": "markdown",
   "metadata": {},
   "source": [
    "Try choosing different scoring metrics for GridSearchCV, and see how the result changes. You can find scoring metrics [here](http://scikit-learn.org/stable/modules/model_evaluation.html#scoring-parameter)."
   ]
  },
  {
   "cell_type": "markdown",
   "metadata": {},
   "source": [
    "Now compare the performance of the *k*-nearest neighbours classifier with logistic regularisation (both, non-regularised, and regularised)."
   ]
  },
  {
   "cell_type": "code",
   "execution_count": 39,
   "metadata": {},
   "outputs": [],
   "source": [
    "from sklearn import linear_model\n",
    "\n",
<<<<<<< HEAD
    "clf_logreg = linear_model.LogisticRegression()\n",
    "logreg_params = {'C': np.logspace(-5, 1, 20) }\n",
=======
    "clf_logreg_l2 = linear_model.LogisticRegression()\n",
    "logreg_params = {'C':#TODO\n",
>>>>>>> upstream/master
    "                \n",
    "clf_logreg_opt = model_selection.GridSearchCV( clf_logreg,\n",
    "                                               logreg_params,\n",
    "                                               cv=cv_folds\n",
    "                                             )\n",
    "clf_logreg_opt.fit(X_clf, y_clf)\n",
    "ypred_clf_logreg_opt = cross_validate(X_clf, y_clf, clf_logreg_opt.best_estimator_, cv_folds)\n",
    "fpr_clf_logreg_opt, tpr_clf_logreg_opt, thresh = metrics.roc_curve(y_clf, ypred_clf_logreg_opt[:,1])"
   ]
  },
  {
   "cell_type": "code",
   "execution_count": 19,
   "metadata": {},
   "outputs": [],
   "source": [
<<<<<<< HEAD
    "clf_logreg_l2 = linear_model.LogisticRegression(C=1e12)\n",
    "clf_logreg_l2.fit(X_clf, y_clf)\n",
    "ypred_clf_logreg_l2 = clf_logreg_l2.predict(X_clf)\n",
    "fpr_clf_logreg_l2, tpr_clf_logreg_l2, thresh = metrics.roc_curve(y_clf, ypred_clf_logreg_l2)"
=======
    "clf_logreg = linear_model.LogisticRegression(C=1e12)\n",
    "ypred_clf_logreg = # TODO\n",
    "fpr_clf_logreg, tpr_clf_logreg, thresh = # TODO"
>>>>>>> upstream/master
   ]
  },
  {
   "cell_type": "code",
   "execution_count": 21,
   "metadata": {},
   "outputs": [],
   "source": [
    "ypred_clf_knn_opt = clf_knn_opt.predict(X_clf)\n",
    "fpr_clf_knn_opt, tpr_clf_knn_opt, thresh = metrics.roc_curve(y_clf, ypred_clf_knn_opt)"
   ]
  },
  {
   "cell_type": "code",
   "execution_count": 40,
   "metadata": {},
   "outputs": [
    {
     "data": {
      "image/png": "iVBORw0KGgoAAAANSUhEUgAAAgIAAAEWCAYAAAAU6v/cAAAABHNCSVQICAgIfAhkiAAAAAlwSFlz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\n",
      "text/plain": [
       "<matplotlib.figure.Figure at 0x7faed5f5ea90>"
      ]
     },
     "metadata": {},
     "output_type": "display_data"
    }
   ],
   "source": [
    "logreg_l2_h,  = plt.plot(fpr_clf_logreg_opt, tpr_clf_logreg_opt, 'b-')\n",
    "logreg_h,     = plt.plot(fpr_clf_logreg, tpr_clf_logreg, 'g-')\n",
    "knn_h,        = plt.plot(fpr_clf_knn_opt, tpr_clf_knn_opt, 'r-')\n",
    "logreg_l2_auc    = metrics.auc(fpr_clf_logreg_opt, tpr_clf_logreg_opt)\n",
    "logreg_auc = metrics.auc(fpr_clf_logreg, tpr_clf_logreg)\n",
    "knn_auc       = metrics.auc(fpr_clf_knn_opt, tpr_clf_knn_opt)\n",
    "\n",
    "\n",
    "logreg_legend    = 'LogisticRegression. AUC=%.2f' %(logreg_auc)\n",
    "logreg_l2_legend = 'Regularised LogisticRegression. AUC=%.2f' %(logreg_l2_auc)\n",
    "knn_legend       = 'KNeighborsClassifier. AUC=%.2f' %(knn_auc)\n",
    "plt.legend([logreg_h, logreg_l2_h, knn_h], [logreg_legend, logreg_l2_legend, knn_legend])\n",
    "plt.xlabel('False Positive Rate')\n",
    "plt.ylabel('True Positive Rate')\n",
    "plt.title('ROC Curves comparison for logistic regression and k-nearest neighbours classifier.')\n",
    "plt.show()"
   ]
  },
  {
   "cell_type": "markdown",
   "metadata": {},
   "source": [
    "**Setting the distance measure**. You will notice that *k*-nearest neighbours classifiers measure distances between points to determine similarity. By default, we use the Euclidean distance metric. Often, using other distance metrics can prove to be helpful. Try to change the distance metric used here by passing it as an argument to the declaration of the classifier. "
   ]
  },
  {
   "cell_type": "code",
   "execution_count": 37,
   "metadata": {},
   "outputs": [
    {
     "name": "stdout",
     "output_type": "stream",
     "text": [
      "Metric = euclidean    | k =   1 | AUC = 1792.500.\n",
      "Metric = euclidean    | k =   3 | AUC = 1750.000.\n",
      "Metric = euclidean    | k =   5 | AUC = 1716.200.\n",
      "Metric = euclidean    | k =   7 | AUC = 1738.071.\n",
      "Metric = euclidean    | k =   9 | AUC = 1693.611.\n",
      "Metric = euclidean    | k =  11 | AUC = 1665.227.\n",
      "Metric = euclidean    | k =  13 | AUC = 1694.538.\n",
      "Metric = euclidean    | k =  15 | AUC = 1682.067.\n",
      "Metric = euclidean    | k =  17 | AUC = 1695.088.\n",
      "Metric = euclidean    | k =  19 | AUC = 1738.816.\n",
      "Metric = euclidean    | k =  21 | AUC = 1731.786.\n",
      "Metric = euclidean    | k =  23 | AUC = 1726.065.\n",
      "Metric = euclidean    | k =  25 | AUC = 1710.920.\n",
      "Metric = euclidean    | k =  27 | AUC = 1716.944.\n",
      "Metric = euclidean    | k =  29 | AUC = 1700.121.\n",
      "Metric = euclidean    | k =  31 | AUC = 1697.855.\n",
      "Metric = euclidean    | k =  33 | AUC = 1707.424.\n",
      "Metric = euclidean    | k =  35 | AUC = 1686.743.\n",
      "Metric = euclidean    | k =  37 | AUC = 1671.730.\n",
      "Metric = euclidean    | k =  39 | AUC = 1671.359.\n",
      "Metric = cityblock    | k =   1 | AUC = 1920.500.\n",
      "Metric = cityblock    | k =   3 | AUC = 1750.167.\n",
      "Metric = cityblock    | k =   5 | AUC = 1818.100.\n",
      "Metric = cityblock    | k =   7 | AUC = 1738.143.\n",
      "Metric = cityblock    | k =   9 | AUC = 1707.889.\n",
      "Metric = cityblock    | k =  11 | AUC = 1711.773.\n",
      "Metric = cityblock    | k =  13 | AUC = 1704.423.\n",
      "Metric = cityblock    | k =  15 | AUC = 1724.733.\n",
      "Metric = cityblock    | k =  17 | AUC = 1717.676.\n",
      "Metric = cityblock    | k =  19 | AUC = 1725.579.\n",
      "Metric = cityblock    | k =  21 | AUC = 1737.976.\n",
      "Metric = cityblock    | k =  23 | AUC = 1731.652.\n",
      "Metric = cityblock    | k =  25 | AUC = 1726.300.\n",
      "Metric = cityblock    | k =  27 | AUC = 1726.389.\n",
      "Metric = cityblock    | k =  29 | AUC = 1686.897.\n",
      "Metric = cityblock    | k =  31 | AUC = 1685.516.\n",
      "Metric = cityblock    | k =  33 | AUC = 1691.955.\n",
      "Metric = cityblock    | k =  35 | AUC = 1694.043.\n",
      "Metric = cityblock    | k =  37 | AUC = 1689.014.\n",
      "Metric = cityblock    | k =  39 | AUC = 1684.538.\n",
      "Metric = correlation  | k =   1 | AUC = 1665.000.\n",
      "Metric = correlation  | k =   3 | AUC = 1707.000.\n",
      "Metric = correlation  | k =   5 | AUC = 1587.500.\n",
      "Metric = correlation  | k =   7 | AUC = 1591.286.\n",
      "Metric = correlation  | k =   9 | AUC = 1550.833.\n",
      "Metric = correlation  | k =  11 | AUC = 1560.091.\n",
      "Metric = correlation  | k =  13 | AUC = 1536.846.\n",
      "Metric = correlation  | k =  15 | AUC = 1553.900.\n",
      "Metric = correlation  | k =  17 | AUC = 1581.912.\n",
      "Metric = correlation  | k =  19 | AUC = 1597.316.\n",
      "Metric = correlation  | k =  21 | AUC = 1561.262.\n",
      "Metric = correlation  | k =  23 | AUC = 1575.804.\n",
      "Metric = correlation  | k =  25 | AUC = 1562.480.\n",
      "Metric = correlation  | k =  27 | AUC = 1551.148.\n",
      "Metric = correlation  | k =  29 | AUC = 1558.931.\n",
      "Metric = correlation  | k =  31 | AUC = 1545.210.\n",
      "Metric = correlation  | k =  33 | AUC = 1533.030.\n",
      "Metric = correlation  | k =  35 | AUC = 1529.571.\n",
      "Metric = correlation  | k =  37 | AUC = 1523.122.\n",
      "Metric = correlation  | k =  39 | AUC = 1530.359.\n",
      "Metric = cosine       | k =   1 | AUC = 1537.500.\n",
      "Metric = cosine       | k =   3 | AUC = 1579.333.\n",
      "Metric = cosine       | k =   5 | AUC = 1588.000.\n",
      "Metric = cosine       | k =   7 | AUC = 1591.214.\n",
      "Metric = cosine       | k =   9 | AUC = 1579.111.\n",
      "Metric = cosine       | k =  11 | AUC = 1571.545.\n",
      "Metric = cosine       | k =  13 | AUC = 1595.500.\n",
      "Metric = cosine       | k =  15 | AUC = 1587.833.\n",
      "Metric = cosine       | k =  17 | AUC = 1582.000.\n",
      "Metric = cosine       | k =  19 | AUC = 1537.079.\n",
      "Metric = cosine       | k =  21 | AUC = 1549.190.\n",
      "Metric = cosine       | k =  23 | AUC = 1537.000.\n",
      "Metric = cosine       | k =  25 | AUC = 1542.100.\n",
      "Metric = cosine       | k =  27 | AUC = 1532.278.\n",
      "Metric = cosine       | k =  29 | AUC = 1532.552.\n",
      "Metric = cosine       | k =  31 | AUC = 1541.016.\n",
      "Metric = cosine       | k =  33 | AUC = 1548.561.\n",
      "Metric = cosine       | k =  35 | AUC = 1537.000.\n",
      "Metric = cosine       | k =  37 | AUC = 1540.514.\n",
      "Metric = cosine       | k =  39 | AUC = 1537.103.\n"
     ]
    }
   ],
   "source": [
    "classifiers = {}            \n",
    "y_preds     = {}            \n",
    "# Fix a set of distance metrics to use\n",
    "d_metrics = ['euclidean', 'cityblock', 'correlation' , 'cosine']\n",
    "aurocs    = {}      \n",
    "\n",
    "for m in d_metrics:\n",
    "    aurocs[m] = []          \n",
    "    for k in k_range: \n",
    "        classifiers[m] = neighbors.KNeighborsClassifier(n_neighbors=k, metric=m) # TODO. Initialise a kNN classifier with n_neighbors=k and metric=m\n",
    "        y_preds[m]     = cross_validate(X_clf, y_clf, classifiers[m], cv_folds) #. Cross validate on the data. Use cross_validate\n",
    "    \n",
    "        fpr, tpr, thresholds = metrics.roc_curve(y_clf, y_preds[m][:, 1])\n",
    "        auc                  = metrics.auc(y_clf, y_preds[m][:, 1])\n",
    "        aurocs[m].append(auc)     \n",
    "        \n",
    "        print('Metric = %-12s | k = %3d | AUC = %.3f.' %(m, k, aurocs[m][-1]))"
   ]
  },
  {
   "cell_type": "markdown",
   "metadata": {},
   "source": [
    "Now plot ROC curves for all the metrics together."
   ]
  },
  {
   "cell_type": "code",
   "execution_count": 38,
   "metadata": {},
   "outputs": [
    {
     "data": {
      "text/plain": [
       "<matplotlib.legend.Legend at 0x7faed60067b8>"
      ]
     },
     "execution_count": 38,
     "metadata": {},
     "output_type": "execute_result"
    },
    {
     "data": {
      "image/png": "iVBORw0KGgoAAAANSUhEUgAAAZQAAAEdCAYAAAArepGwAAAABHNCSVQICAgIfAhkiAAAAAlwSFlz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\n",
      "text/plain": [
       "<matplotlib.figure.Figure at 0x7faed601e198>"
      ]
     },
     "metadata": {},
     "output_type": "display_data"
    }
   ],
   "source": [
    "f = plt.figure()\n",
    "handles = [[] for i in range(len(d_metrics))]\n",
    "colours = ['blue', 'red', 'black', 'yellow'] \n",
    "for i in range(len(d_metrics)):              \n",
    "    handles[i], = plt.plot(k_range, aurocs[d_metrics[i]], color=colours[i])  # SOLUTION\n",
    "\n",
    "plt.xlabel('Number of nearest neighbors', fontsize=16)\n",
    "plt.ylabel('Cross-validated AUC', fontsize=16)\n",
    "plt.title('Nearest neighbors classification', fontsize=16)\n",
    "plt.legend(handles, d_metrics)"
   ]
  },
  {
   "cell_type": "markdown",
   "metadata": {},
   "source": [
    "# 2. Kaggle Challenge.\n",
    "\n",
    "Cross-validate a *k*-NN on the challenge's data and submit to the leaderboard. What scoring criterion are you using? How does the leaderboard performance compare to your cross-validated performance?"
   ]
  },
  {
   "cell_type": "markdown",
   "metadata": {},
   "source": [
    "# 3. Bonus: Implementating *k*-Nearest Neighbours"
   ]
  },
  {
   "cell_type": "markdown",
   "metadata": {},
   "source": [
    "In this section, you can write your own nearest neighbours classifier.\n",
    "\n",
    "Create a class to define a *k*-nearest neighbor classifier. The class must define certain functions (according to convention) - `fit`, `predict`, and `predict_proba`. `fit` takes as argument some data, and fits the classifier to it. `predict` and `predict_proba` also take some data, but predict class labels on this data based on the fitted classifier. These definitions are described below. `predict_proba` assigns a probability vector for each test point, representing its confidence in that test point belonging to each of the classes. "
   ]
  },
  {
   "cell_type": "code",
   "execution_count": null,
   "metadata": {
    "collapsed": true
   },
   "outputs": [],
   "source": [
    "from sklearn.metrics import pairwise_distances\n",
    "\n",
    "class kNNClassifier:\n",
    "    # To start, determine what members this class must have. \n",
    "    # Recall that Python does not have public and private class members. \n",
    "    \n",
    "    # Define the __init__ function. \n",
    "    def __init__(self, k=3):\n",
    "        self.k    = k\n",
    "        self.data = None\n",
    "    \n",
    "    # Define the fit function. You must also use an appropriate function prototype. \n",
    "    def fit(self, X, y):\n",
    "        self.data      = X\n",
    "        \n",
    "        # Fix class labels so that they are in [0, num_labels].\n",
    "        self.target    = y\n",
    "        self.classes   = np.unique(y)\n",
    "        self.n_classes = self.classes.size\n",
    "        d              = {}\n",
    "        for i in range(self.n_classes):\n",
    "            d[self.classes[i]] = i\n",
    "        # Now use self._target as a mapping.\n",
    "        self._target   = np.array([d[i] for i in self.target], dtype=np.int)  \n",
    "    \n",
    "    # Define the predict_proba function. You must use an appropriate function prototype. \n",
    "    def predict_proba(self, X):        \n",
    "        n_test, n_vars  = X.shape\n",
    "        n_train, n_vars = self.data.shape\n",
    "                \n",
    "        dists = # TODO: Find pairwise distances between each point in X and each point in self.data\n",
    "        top_k = # TODO: For each point in X, sort these distance and retrieve self.k closest points from self.data\n",
    "        # TODO: For each point in X, compute probabilities of it belonging to each class. The probability\n",
    "        #       of a point belonging to a class is simply the number of neighbours of that class in the top-k \n",
    "        #       divided by k.\n",
    "        return probs\n",
    "    \n",
    "    # Define the predict function. You must also use an appropriate function prototype. \n",
    "    def predict(self, X):\n",
    "        probs = self.predict_proba(X)\n",
    "        return self.classes[np.argmax(probs, axis=1)]\n",
    "        pass\n"
   ]
  },
  {
   "cell_type": "markdown",
   "metadata": {
    "collapsed": true
   },
   "source": [
    "Now that we have the class defined, we can use it. Define an instance of the `kNNClassifier` below with 3 neighbors, and fit the classifier to our design matrix `X`. But first we create cross validation folds. 10 sounds like a good-enough number."
   ]
  },
  {
   "cell_type": "code",
   "execution_count": null,
   "metadata": {
    "collapsed": true
   },
   "outputs": [],
   "source": [
    "cv_folds = stratifiedMFolds(y_clf, 10)   # SOLUTION."
   ]
  },
  {
   "cell_type": "markdown",
   "metadata": {},
   "source": [
    "Use this to obtain a prediction on the entire data. Use `k = 3`, as example."
   ]
  },
  {
   "cell_type": "code",
   "execution_count": null,
   "metadata": {
    "collapsed": true
   },
   "outputs": [],
   "source": [
    "knn_3       = # TODO\n",
    "y_pred_cv   = cross_validate( # TODO,\n",
    "                              # TODO,\n",
    "                              # TODO,\n",
    "                              # TODO\n",
    "                              )"
   ]
  },
  {
   "cell_type": "markdown",
   "metadata": {},
   "source": [
    "Calculate the area under the ROC curve for these two folds. "
   ]
  },
  {
   "cell_type": "code",
   "execution_count": null,
   "metadata": {
    "collapsed": true
   },
   "outputs": [],
   "source": [
    "from sklearn import metrics\n",
    "\n",
    "fpr, tpr, thresholds = # TODO\n",
    "cv_auc               = # TODO\n",
    "\n",
    "print 'AUC, 10-fold cross validation: %f' %(cv_auc)"
   ]
  },
  {
   "cell_type": "markdown",
   "metadata": {},
   "source": [
    "Try changing the value of `k` here. Try odd values from 1 to 29, inclusive. Compare their performances by plotting them."
   ]
  },
  {
   "cell_type": "markdown",
   "metadata": {},
   "source": [
    "**Question**: Why aren't we using even values here?\n",
    "\n",
    "**Answer**: "
   ]
  },
  {
   "cell_type": "code",
   "execution_count": 1,
   "metadata": {},
   "outputs": [
    {
     "ename": "SyntaxError",
     "evalue": "invalid syntax (<ipython-input-1-698cabd15095>, line 10)",
     "output_type": "error",
     "traceback": [
      "\u001b[0;36m  File \u001b[0;32m\"<ipython-input-1-698cabd15095>\"\u001b[0;36m, line \u001b[0;32m10\u001b[0m\n\u001b[0;31m    fpr, tpr, thresholds = # TODO\u001b[0m\n\u001b[0m                                 ^\u001b[0m\n\u001b[0;31mSyntaxError\u001b[0m\u001b[0;31m:\u001b[0m invalid syntax\n"
     ]
    }
   ],
   "source": [
    "aurocs      = []\n",
    "classifiers = {}\n",
    "y_preds     = {}\n",
    "\n",
    "# Calculate area under the ROC curves for different values of k.\n",
    "for k in range(1, 30, 2):\n",
    "    classifiers[k] = kNNClassifier(k)        \n",
    "    y_preds[k]     = cross_validate(X_clf, y_clf, classifiers[k], cv_folds)\n",
    "    \n",
    "    fpr, tpr, thresholds = # TODO\n",
    "    aurocs.append(metrics.auc(fpr, tpr))   \n",
    "    \n",
    "# Plot these values. \n",
    "f = plt.figure()\n",
    "plt.plot(range(1, 30, 2), aurocs, color='blue')\n",
    "plt.xlabel('Number of nearest neighbors', fontsize=16)\n",
    "plt.ylabel('Cross-validated AUC', fontsize=16)\n",
    "plt.title('Nearest neighbors classification', fontsize=16)"
   ]
  },
  {
   "cell_type": "markdown",
   "metadata": {},
   "source": [
    "Now compare the graph you get here, with the one you obtained using the `sklearn` implementation."
   ]
  },
  {
   "cell_type": "markdown",
   "metadata": {},
   "source": [
    "Notice that our implementation of the *k*-nearest neighbors classifier uses the Euclidean distance measure (`pairwise_distances` uses this metric by default). However, for some types of data, some other distance measures are more useful. \n",
    "Read the documentation of `sklearn.metrics.pairwise_distances` [here](http://scikit-learn.org/stable/modules/generated/sklearn.metrics.pairwise.pairwise_distances.html), and include another parameter in the definition of the class. This should subsequently be reflected in how the predict function of the class works as well. \n",
    "\n",
    "Define a new class `kNNClassifierMetric` that accepts, as argument, a distance measure to be used. "
   ]
  },
  {
   "cell_type": "code",
   "execution_count": null,
   "metadata": {
    "collapsed": true
   },
   "outputs": [],
   "source": [
    "class kNNClassifierMetric:\n",
    "    # To start, determine what members this class must have. \n",
    "    # Recall that Python does not have public and private class members. \n",
    "    \n",
    "    # Define the __init__ function. You must also use an appropriate function prototype. \n",
    "    def __init__(self, k=3, metric='euclidean'):\n",
    "        self.k      = k\n",
    "        self.data   = None\n",
    "        self.metric = metric\n",
    "    \n",
    "    # Define the fit function. You must also use an appropriate function prototype. \n",
    "    def fit(self, X, y):\n",
    "        self.data      = X\n",
    "        # Fix class labels so that they are in [0, num_labels].\n",
    "        # TODO. You can borrow this from the previous definition.\n",
    " \n",
    "    \n",
    "    # Define the predict_proba function. You must use an appropriate function prototype. \n",
    "    def predict_proba(self, X):        \n",
    "        n_test, n_vars  = X.shape\n",
    "        n_train, n_vars = self.data.shape\n",
    "        \n",
    "        # TODO.\n",
    "        \n",
    "    # Define the predict function. You must also use an appropriate function prototype. \n",
    "    def predict(self, X):\n",
    "        probs = self.predict_proba(X)\n",
    "        return self.classes[np.argmax(probs, axis=1)]\n",
    "        pass\n"
   ]
  },
  {
   "cell_type": "markdown",
   "metadata": {},
   "source": [
    "As previously, we again predict the class labels for our dataset - "
   ]
  },
  {
   "cell_type": "code",
   "execution_count": null,
   "metadata": {
    "collapsed": true
   },
   "outputs": [],
   "source": [
    "from sklearn import metrics\n",
    "\n",
    "classifiers = {}\n",
    "y_preds     = {}\n",
    "# Fix a set of distance metrics to use\n",
    "d_metrics = ['euclidean', 'cityblock', 'correlation' , 'cosine']\n",
    "for m in d_metrics:\n",
    "    classifiers[m] = kNNClassifierMetric(k=3, metric=m)    \n",
    "    y_preds[m]     = # TODO\n",
    "    \n",
    "    fpr, tpr, thresholds = # TODO\n",
    "    auc                  = # TODO\n",
    "    \n",
    "    print 'Metric %s. AUC, 10-fold cross validation: %f' %(m, auc)"
   ]
  },
  {
   "cell_type": "markdown",
   "metadata": {},
   "source": [
    "Do the same thing, but this time, try changing the parameter `k` as well. "
   ]
  },
  {
   "cell_type": "code",
   "execution_count": null,
   "metadata": {
    "collapsed": true
   },
   "outputs": [],
   "source": [
    "classifiers = {}    \n",
    "y_preds     = {}    \n",
    "# Fix a set of distance metrics to use\n",
    "d_metrics = ['euclidean', 'cityblock', 'correlation' , 'cosine']\n",
    "aurocs    = {}      \n",
    "\n",
    "for m in d_metrics:\n",
    "    aurocs[m] = []          \n",
    "    for k in k_range: \n",
    "        classifiers[m] = kNNClassifierMetric(k=k, metric=m)    \n",
    "        y_preds[m]     = # TODO\n",
    "        \n",
    "        fpr, tpr, thresholds = # TODO\n",
    "        auc                  = # TODO\n",
    "        aurocs[m].append(auc)     # SOLUTION.\n",
    "        \n",
    "        print 'Metric = %-12s | k = %3d | AUC = %.3f.' %(m, k, aurocs[m][-1])"
   ]
  },
  {
   "cell_type": "markdown",
   "metadata": {},
   "source": [
    "Now plot all the curves on the same graph. Also try adding a legend to the plot."
   ]
  },
  {
   "cell_type": "code",
   "execution_count": null,
   "metadata": {
    "collapsed": true,
    "scrolled": false
   },
   "outputs": [],
   "source": [
    "f = plt.figure()\n",
    "handles = [[] for i in range(len(d_metrics))]  \n",
    "colours = ['blue', 'red', 'black', 'yellow']   \n",
    "for i in range(len(d_metrics)):                \n",
    "    handles[i], = plt.plot(k_range, aurocs[d_metrics[i]], color=colours[i])  \n",
    "\n",
    "plt.xlabel('Number of nearest neighbors', fontsize=16)\n",
    "plt.ylabel('Cross-validated AUC', fontsize=16)\n",
    "plt.title('Nearest neighbors classification', fontsize=16)\n",
    "plt.legend(handles, d_metrics)"
   ]
  },
  {
   "cell_type": "markdown",
   "metadata": {},
   "source": [
    "Note the effect of choosing different distance metrics."
   ]
  },
  {
   "cell_type": "code",
   "execution_count": null,
   "metadata": {
    "collapsed": true
   },
   "outputs": [],
   "source": []
  }
 ],
 "metadata": {
  "kernelspec": {
   "display_name": "Python 3",
   "language": "python",
   "name": "python3"
  },
  "language_info": {
   "codemirror_mode": {
    "name": "ipython",
    "version": 3
   },
   "file_extension": ".py",
   "mimetype": "text/x-python",
   "name": "python",
   "nbconvert_exporter": "python",
   "pygments_lexer": "ipython3",
   "version": "3.6.2"
  }
 },
 "nbformat": 4,
 "nbformat_minor": 1
}
