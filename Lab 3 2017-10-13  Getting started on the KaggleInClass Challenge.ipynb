{
 "cells": [
  {
   "cell_type": "markdown",
   "metadata": {},
   "source": [
    "# 2017-10-13  Getting started on the KaggleInClass Challenge\n",
    "\n",
    "The goal of this lab is to get started on the KaggleInClass Challenge, setting up a proper cross-validation and trying out a Naive Bayes classifier on it."
   ]
  },
  {
   "cell_type": "markdown",
   "metadata": {},
   "source": [
    "In this competition, you will be challenged to predict the number of shares an article will get on social media, from the article's topic, length, day of publication, and many other features.\n",
    "\n",
    "You are given labels, that is, number of shares, for 5000 of these articles; your task is to predict labels for the remaining 2000 articles."
   ]
  },
  {
   "cell_type": "code",
   "execution_count": 3,
   "metadata": {},
   "outputs": [],
   "source": [
    "# load useful libraries\n",
    "import numpy as np\n",
    "import pandas as pd\n",
    "import matplotlib.pyplot as plt\n",
    "%matplotlib inline"
   ]
  },
  {
   "cell_type": "markdown",
   "metadata": {},
   "source": [
    "# 0. Model Selection: setting up a cross validation\n",
    "\n",
    "Cross-validation is a good way to perform model selection empirically while avoiding overfitting. \n",
    "\n",
    "This procedure can be split into the following two steps: \n",
    "* the dataset is randomly split into K folds \n",
    "* the model is run K times, each run using K-1 folds as the training set and evaluating the performance on the remaining fold which is the test set. \n",
    "\n",
    "Prediction performance are averaged over all folds. \n",
    "\n",
    "When the model contains parameters that need to be tuned, the CV scheme is repeated for all considered values of the hyperparameters, and those leading to the best prediction performance averaged on all folds are retained.\n",
    "\n",
    "Depending on the size of the dataset, 5 or 10 folds are usualy considered."
   ]
  },
  {
   "cell_type": "markdown",
   "metadata": {},
   "source": [
    "__Question:__ In a K-fold cross-validation, how many times does each sample appear in a test set? In a training set?  "
   ]
  },
  {
   "cell_type": "markdown",
   "metadata": {},
   "source": [
    "__Answer:__ 1 time in a test set and K-1 times in a training set"
   ]
  },
  {
   "cell_type": "markdown",
   "metadata": {},
   "source": [
    "**Question:** Implement a function which splits the _indices_ of the training data in K folds."
   ]
  },
  {
   "cell_type": "code",
   "execution_count": 35,
   "metadata": {},
   "outputs": [],
   "source": [
    "def make_Kfolds(n_instance, n_folds):\n",
    "    \"\"\"\n",
    "    set up a K-fold cross-validation.\n",
    "    \n",
    "    Parameters:\n",
    "    -----------\n",
    "    n_instances: int\n",
    "        the number of instances in the dataset.\n",
    "    n_folds: int\n",
    "        the number of folds of the cross-validation scheme\n",
    "        \n",
    "    Outputs:\n",
    "    --------\n",
    "    fold_list: list\n",
    "        list of folds, a fold is a tuple of 2 lists, \n",
    "            the first one containing the indices of instances of the training set,\n",
    "            the second one containing the indices of instances of the test set\n",
    "    \"\"\"\n",
    "    # Create a list of the n_instance indices [0, 1, ..., n_instance-1]\n",
    "    list_indices = np.arange(n_instance)\n",
    "    # Shuffle the list with np.random.shuffle\n",
    "    np.random.shuffle(list_indices)\n",
    "    \n",
    "    # Compute the number of instances per fold (i.e. in each test set)\n",
    "    n_instance_per_fold = n_instance // n_folds\n",
    "    print(n_instance_per_fold)\n",
    "    \n",
    "    # For each of the first K-1 folds, create the list of train set and test set indices\n",
    "    fold_list = []\n",
    "    for ind_fold in range(n_folds):\n",
    "        test_list = list_indices[ind_fold*n_instance_per_fold:(ind_fold+1)*(n_instance_per_fold)]\n",
    "        train_list = np.concatenate((list_indices[(ind_fold+1)*n_instance_per_fold:], list_indices[:ind_fold*n_instance_per_fold]), axis=0)\n",
    "        # TODO add the (train_list, test_list) tuple to fold_list\n",
    "        fold_list.append((train_list, test_list))\n",
    "\n",
    "    # Process the last fold separately\n",
    "#    test_list = # TODO \n",
    " #   train_list = # TODO \n",
    "    # TODO add the (train_list, test_list) tuple to fold_list    \n",
    "    \n",
    "    return fold_list"
   ]
  },
  {
   "cell_type": "code",
   "execution_count": 36,
   "metadata": {},
   "outputs": [
    {
     "name": "stdout",
     "output_type": "stream",
     "text": [
      "200\n",
      "Fold 0\n",
      "\t 801 training points\n",
      "\t 200 test points\n",
      "Fold 1\n",
      "\t 801 training points\n",
      "\t 200 test points\n",
      "Fold 2\n",
      "\t 801 training points\n",
      "\t 200 test points\n",
      "Fold 3\n",
      "\t 801 training points\n",
      "\t 200 test points\n",
      "Fold 4\n",
      "\t 801 training points\n",
      "\t 200 test points\n"
     ]
    }
   ],
   "source": [
    "# Check whether your function does what is expected\n",
    "perso_folds = make_Kfolds(1001, 5)\n",
    "\n",
    "for ix, (tr, te) in enumerate(perso_folds):\n",
    "    print(\"Fold %d\" % ix)\n",
    "    print(\"\\t %d training points\" % len(tr))\n",
    "    print(\"\\t %d test points\" % len(te))\n",
    "    if len(np.intersect1d(tr, te))>0:\n",
    "        print('some instances are both in your training and test sets')"
   ]
  },
  {
   "cell_type": "markdown",
   "metadata": {},
   "source": [
    "In practice, when using scikit-learn, you will not implement your cross-validation yourself, but rather rely on the  library's functionalities for setting up cross-validation schemes. \n",
    "\n",
    "[Here](http://scikit-learn.org/stable/modules/classes.html#module-sklearn.model_selection) is the list of available tools in the scikit-learn library.\n",
    "\n",
    "We list here one of the most important ones:\n",
    "* [K-fold](http://scikit-learn.org/stable/modules/generated/sklearn.model_selection.KFold.html#sklearn.model_selection.KFold): Provides train/test indices to split data in train/test sets by dataset into k consecutive folds (without shuffling by default). \n",
    "* [stratified K-fold](http://scikit-learn.org/stable/modules/generated/sklearn.model_selection.StratifiedKFold.html#sklearn.model_selection.StratifiedKFold) (to be used in case of classification): this cross-validation object is a variation of KFold that returns stratified folds. The folds are made by preserving the percentage of samples for each class.\n",
    "\n",
    "We will now explore the stratified K-fold on randomly generated data."
   ]
  },
  {
   "cell_type": "code",
   "execution_count": 37,
   "metadata": {},
   "outputs": [
    {
     "name": "stdout",
     "output_type": "stream",
     "text": [
      "[0 1 0 1 1 0 0 1 0 1 0 0 0 0 0 1 1 0 1 1 0 0 0 1 0 1 1 0 0 0 0 1 1 0 0 0 1\n",
      " 1 0 0 1 0 1 0 0 0 1 0 0 1 0 0 0 0 1 0 0 0 1 1 1 0 1 1 1 1 1 1 1 0 0 0 0 0\n",
      " 1 0 1 0 1 0 1 1 1 0 0 0 1 1 0 0 0 1 1 1 0 0 1 1 1 0 1 0 0 0 1 1 0 0 0 0 0\n",
      " 0 1 1 0 0 0 1 0 1 0 1 0 1 0 0 1 1 1 1 0 1 0 1 0 1 1 0 0 0 1 1 0 1 1 0 1 1\n",
      " 0 0 0 0 1 1 1 0 0 0 1 1 0 1 0 1 1 1 0 1 1 1 1 1 0 1 1 0 0 1 1 0 1 0 1 0 1\n",
      " 0 1 0 0 0 1 1 0 1 1 0 1 1 1 1 0 0 0 0 1 1 0 1 0 0 1 0 0 0 1 0 0 1 0 0 0 1\n",
      " 0 0 1 0 1 0 1 1 1 0 0 0 1 0 0 0 0 0 1 1 0 0 1 0 1 0 1 1 1 1 1 0 1 0 0 0 1\n",
      " 1 0 0 0 1 0 0 1 0 1 0 1 0 1 1 0 1 1 1 0 0 1 0 1 1 1 0 0 1 0 0 1 0 1 1 1 1\n",
      " 1 1 0 1 1 0 1 0 1 1 1 0 0 0 1 1 1 1 1 1 1 0 1 0 0 1 0 1 1 1 0 0 1 1 1 0 0\n",
      " 0 0 0 1 0 0 0 1 0 0 1 0 1 0 1 0 0 1 1 1 1 1 0 0 0 0 0 1 0 1 0 1 1 1 0 1 1\n",
      " 0 1 1 1 1 1 0 0 0 0 1 1 1 1 0 1 1 1 1 1 0 1 1 0 1 1 1 1 0 0 1 0 1 1 1 0 1\n",
      " 0 0 1 1 1 0 0 1 1 1 0 0 1 0 1 0 1 1 1 1 0 0 1 0 0 0 0 0 0 0 1 1 1 0 1 0 0\n",
      " 1 0 0 1 1 1 0 0 1 0 0 0 0 1 1 1 1 1 0 1 0 0 0 0 1 0 0 0 1 0 1 0 0 0 1 0 1\n",
      " 0 0 0 1 1 0 0 1 0 1 0 1 0 1 0 0 0 0 1 0 1 0 1 1 1 1 1 0 1 1 1 0 0 1 1 1 0\n",
      " 0 0 0 0 0 1 0 1 0 0 0 1 0 1 1 0 0 1 1 1 0 1 1 1 1 1 0 1 0 1 1 1 0 1 1 0 0\n",
      " 0 1 0 0 0 1 0 0 0 1 0 0 1 0 0 1 1 1 1 1 0 0 0 1 0 1 0 0 0 0 0 1 1 1 0 1 0\n",
      " 1 1 0 1 0 1 0 1 0 0 0 0 1 0 1 1 0 1 1 1 0 1 0 1 1 0 0 0 0 0 1 0 1 0 1 0 1\n",
      " 0 0 1 0 0 0 0 1 0 0 0 0 0 1 1 0 1 0 0 0 0 1 1 1 1 1 0 1 1 1 0 0 0 0 1 0 1\n",
      " 0 1 1 1 0 1 1 0 1 1 1 1 0 1 0 0 0 1 1 1 1 1 1 0 1 0 1 0 1 0 1 1 1 0 1 0 1\n",
      " 1 0 1 0 1 1 0 1 0 0 0 1 0 0 0 1 1 1 1 0 0 1 1 0 1 1 1 1 0 1 0 0 0 0 1 0 1\n",
      " 1 1 1 0 1 0 0 0 1 0 1 0 0 0 0 0 1 0 0 1 0 1 1 0 0 0 0 1 1 0 0 0 0 0 1 0 1\n",
      " 0 0 1 0 0 1 0 0 0 0 0 1 1 1 0 1 0 1 1 0 1 0 0 1 0 1 1 1 1 0 0 1 0 1 1 1 0\n",
      " 0 0 0 0 0 0 0 0 1 1 1 0 1 0 0 1 1 1 1 0 1 1 0 0 1 1 1 1 1 0 0 0 0 0 0 1 1\n",
      " 0 0 1 1 0 1 1 0 1 1 1 0 0 0 0 1 1 0 1 0 0 1 1 1 0 1 1 0 0 0 0 0 0 0 0 1 0\n",
      " 1 0 0 0 1 0 0 1 1 0 0 0 1 0 0 0 1 0 0 1 1 0 0 0 1 0 0 1 0 0 1 1 0 1 1 0 1\n",
      " 1 0 1 1 1 1 1 1 1 0 0 0 1 1 0 0 0 0 1 1 1 0 1 1 1 0 1 0 0 1 1 0 0 0 0 1 1\n",
      " 0 0 1 0 0 0 1 0 1 0 1 1 1 1 0 1 0 0 0 1 0 1 1 0 0 1 0 0 0 0 0 1 0 1 1 1 1\n",
      " 1]\n"
     ]
    }
   ],
   "source": [
    "# Generate random data\n",
    "n_instances, n_features = 1000, 7\n",
    "# Design matrix\n",
    "X = np.random.random((n_instances, n_features))\n",
    "# Classification labels\n",
    "y = np.where(np.random.random(n_instances) >=0.5, 1, 0)\n",
    "print(y)"
   ]
  },
  {
   "cell_type": "markdown",
   "metadata": {},
   "source": [
    "**Question:** Using scikit-learn, set up a stratified 10-fold cross-validation for the above data."
   ]
  },
  {
   "cell_type": "code",
   "execution_count": 40,
   "metadata": {
    "scrolled": true
   },
   "outputs": [],
   "source": [
    "from sklearn import model_selection\n",
    "# Initialize a StratifiedKFold object \n",
    "skf = model_selection.StratifiedKFold(n_splits=10)\n",
    "# Split the data using skf\n",
    "sk_folds = skf.split(X, y)"
   ]
  },
  {
   "cell_type": "code",
   "execution_count": 41,
   "metadata": {
    "scrolled": true
   },
   "outputs": [
    {
     "name": "stdout",
     "output_type": "stream",
     "text": [
      "Fold 0\n",
      "\t 899 training points\n",
      "\t 101 test points\n",
      "Fold 1\n",
      "\t 899 training points\n",
      "\t 101 test points\n",
      "Fold 2\n",
      "\t 900 training points\n",
      "\t 100 test points\n",
      "Fold 3\n",
      "\t 900 training points\n",
      "\t 100 test points\n",
      "Fold 4\n",
      "\t 900 training points\n",
      "\t 100 test points\n",
      "Fold 5\n",
      "\t 900 training points\n",
      "\t 100 test points\n",
      "Fold 6\n",
      "\t 900 training points\n",
      "\t 100 test points\n",
      "Fold 7\n",
      "\t 900 training points\n",
      "\t 100 test points\n",
      "Fold 8\n",
      "\t 901 training points\n",
      "\t 99 test points\n",
      "Fold 9\n",
      "\t 901 training points\n",
      "\t 99 test points\n"
     ]
    }
   ],
   "source": [
    "# This is one way to access the training and test points\n",
    "for ix, (tr, te) in enumerate(sk_folds):\n",
    "    print(\"Fold %d\" % ix)\n",
    "    print(\"\\t %d training points\" % len(tr))\n",
    "    print(\"\\t %d test points\" % len(te))"
   ]
  },
  {
   "cell_type": "markdown",
   "metadata": {},
   "source": [
    "__Important note:__ `sk_folds` is a [_generator_](https://wiki.python.org/moin/Generators), meaning that once you are done looping through it, it will be empty. In practice it avoids storing all the indices (if you were doing 10-fold cross-validation on a million sample, you would have $10^7$ values to store)."
   ]
  },
  {
   "cell_type": "markdown",
   "metadata": {},
   "source": [
    "**Question:** Create a cross-validation function that takes a design matrix, label array, scikit-learn classifier, and scikit-learn cross_validation object and returns the corresponding list of cross-validated predictions. \n",
    "\n",
    "The function contains a loop that goes through all folds and for each fold:\n",
    "* trains a model on the training data\n",
    "* uses this model to make predictions on the test data. \n",
    "In this fashion you should be able to form *a single vector of predictions* `y_prob_cv` (as each point from the data appears once as a test point in the cross-validation).\n",
    "\n",
    "Make sure that you are returning the predictions in the correct order!\n",
    "\n",
    "Check the documentation of fit(X, y) and predict_proba(X) in [sklearn.naive_bayes.GaussianNB](http://scikit-learn.org/stable/modules/generated/sklearn.naive_bayes.GaussianNB.html). Every classifier implemented in scikit-learn has a fit(X,y) and a predict_proba(X) methods. \n",
    "Note that the predict_proba methods returns a 2 dimentional array, you must find a way to only keep the probability to belong to the positive class."
   ]
  },
  {
   "cell_type": "code",
   "execution_count": 44,
   "metadata": {
    "scrolled": true
   },
   "outputs": [],
   "source": [
    "def cross_validate(design_matrix, labels, classifier, cv_folds):\n",
    "    \"\"\" Perform a cross-validation and returns the predictions.\n",
    "    \n",
    "    Parameters:\n",
    "    -----------\n",
    "    design_matrix: (n_samples, n_features) np.array\n",
    "        Design matrix for the experiment.\n",
    "    labels: (n_samples, ) np.array\n",
    "        Vector of labels.\n",
    "    classifier:  sklearn classifier object\n",
    "        Classifier instance; must have the following methods:\n",
    "        - fit(X, y) to train the classifier on the data X, y\n",
    "        - predict_proba(X) to apply the trained classifier to the data X and return probability estimates \n",
    "    cv_folds: sklearn cross-validation object\n",
    "        Cross-validation iterator.\n",
    "        \n",
    "    Return:\n",
    "    -------\n",
    "    pred: (n_samples, ) np.array\n",
    "        Vectors of predictions (same order as labels).\n",
    "    \"\"\"\n",
    "    pred = np.zeros(labels.shape)\n",
    "    for tr, te in cv_folds:\n",
    "        classifier.fit(design_matrix[tr], labels[tr])\n",
    "        pred[te] = classifier.predict_proba(labels[te])\n",
    "    return pred"
   ]
  },
  {
   "cell_type": "code",
   "execution_count": 45,
   "metadata": {
    "scrolled": true
   },
   "outputs": [
    {
     "name": "stdout",
     "output_type": "stream",
     "text": [
      "1000\n",
      "1000\n",
      "0.512\n"
     ]
    }
   ],
   "source": [
    "# To check whether your function runs properly, you can use the following\n",
    "\n",
    "# import Gaussian Naive Bayes\n",
    "from sklearn.naive_bayes import GaussianNB\n",
    "from sklearn import metrics\n",
    "\n",
    "# create a GNB classifier\n",
    "gnb = GaussianNB()\n",
    "\n",
    "# run your cross_validate function\n",
    "y_prob_cv = cross_validate(X, y, gnb, sk_folds)\n",
    "\n",
    "# check y and y_prob_cv have the same length (the number of instance)\n",
    "print(len(y_prob_cv))\n",
    "print(len(y))\n",
    "\n",
    "# check the accuracy of your prediction (it should be close to 0.5 as we're considering random matrices). \n",
    "print(metrics.accuracy_score(y, np.where(y_prob_cv>=0.5, 1, 0)))"
   ]
  },
  {
   "cell_type": "markdown",
   "metadata": {},
   "source": [
    "** Extensions **\n",
    "* **Leave-one-out cross-validation: ** in this case, the number of folds is the number of available points in the dataset. To say it differently, the model is trained K times on K-1 points, and tested on the left out point. The LOO CV scheme is particularly convenient when the number of samples is very small. When the number of samples is large, it becomes computationally burdensome; moreover the cross-validated error tends to have a very large variance which makes it hard to interpret.\n",
    "\n",
    "* **Nested-cross-validation: ** The goal of the cross validation scheme is to assess the performance of the model on _new_ data which were not used to train or optimize the model. From that perspective, the CV scheme is not rigorous when optimizing hyperparameters. Indeed, the test data are both used to assess the performance and choosing the set of parameters which led to that best performance. To avoid selecting a possibly over-fitted set of parameters, we also used the so-called nested cross validation (_Nested CV_) scheme which consists in a cross validation (_inner-CV_) nested in a other cross validation (_outer-CV_). At each step of the _outer-CV_, the optimal parameters are found via the _inner-CV_ on the train set of the _outer-CV_, and the performance is assessed on the remaining test fold of the _outer-CV_ Therefore, in _Nested CV_, parameter optimization and performance assessment are performed on different _unseen_ data.\n"
   ]
  },
  {
   "cell_type": "markdown",
   "metadata": {},
   "source": [
    "# 1. Data loading and visualization"
   ]
  },
  {
   "cell_type": "code",
   "execution_count": 46,
   "metadata": {
    "scrolled": true
   },
   "outputs": [
    {
     "name": "stdout",
     "output_type": "stream",
     "text": [
      "nb_words_title  Number of words in the article's titles\r\n",
      "nb_words_content  Number of words in the article\r\n",
      "pp_uniq_words  Proportion of unique words in the article\r\n",
      "pp_stop_words  Proportion of stop words (i.e. words predefined to be too common to be of use for interpretation or queries, such as 'the', 'a', 'and', etc.)\r\n",
      "pp_uniq_non-stop_words  Proportion of non-stop words among unique words\r\n",
      "nb_links  Number of hyperlinks in the article\r\n",
      "nb_outside_links  Number of hyperlinks pointing to another website\r\n",
      "nb_images  Number of images in the article\r\n",
      "nb_videos  Number of videos in the article\r\n",
      "ave_word_length  Average word length\r\n",
      "nb_keywords  Number of keywords in the metadata\r\n",
      "category  Category of the article: 0-Lifestyle, 1-Entertainment, 2-Business, 3-Web, 4-Tech, 5-World\r\n",
      "nb_mina_mink  Minimum number of share counts among all articles with at least one keyword in common with the article\r\n",
      "nb_mina_maxk  Minimum number of maximum share counts per keyword\r\n",
      "nb_mina_avek  Minimum number of average share counts per keyword\r\n",
      "nb_maxa_mink  Maximum number of minimum share counts per keyword\r\n",
      "nb_maxa_maxk  Maximum number of share counts among all articles with at least one keyword in common with the article\r\n",
      "nb_maxa_avek  Maximum number of average share counts per keyword\r\n",
      "nb_avea_mink  Average number of minimum share counts per keyword\r\n",
      "nb_avea_maxk  Average number of maximum share counts per keyword\r\n",
      "nb_avea_avek  Average number of average share counts per keyword\r\n",
      "nb_min_linked  Minimum number of shares of articles from the same website linked within the article\r\n",
      "nb_max_linked  Maximum number of shares of articles from the same website linked within the article\r\n",
      "nb_ave_linked  Average number of shares of articles from the same website linked within the article\r\n",
      "weekday  Day of the week: 0-Monday, 1-Tuesday, 2-Wednesday, until 6-Sunday\r\n",
      "dist_topic_0  Distance to topic 0\r\n",
      "dist_topic_1  Distance to topic 1\r\n",
      "dist_topic_2  Distance to topic 2\r\n",
      "dist_topic_3  Distance to topic 3\r\n",
      "dist_topic_4  Distance to topic 4\r\n",
      "subj  Subjectivity\r\n",
      "polar  Sentiment polarity \r\n",
      "pp_pos_words  Proportion of positive words in the article\r\n",
      "pp_neg_words  Proportion of negative words in the article\r\n",
      "pp_pos_words_in_nonneutral  Proportion of positive words among the non-neutral words of the article\r\n",
      "ave_polar_pos  Average sentiment polarity of the positive words\r\n",
      "min_polar_pos  Minimum sentiment polarity of the positive words\r\n",
      "max_polar_pos  Maximum sentiment polarity of the positive words\r\n",
      "ave_polar_neg  Average sentiment polarity of the negative words\r\n",
      "min_polar_neg  Mimimum sentiment polarity of the negative words\r\n",
      "max_polar_neg  Maximum sentiment polarity of the negative words\r\n",
      "subj_title  Subjectivity of the title\r\n",
      "polar_title  Polarity of the title\r\n"
     ]
    }
   ],
   "source": [
    "# we display the description of the features\n",
    "!cat data/kaggle_data/features.txt"
   ]
  },
  {
   "cell_type": "code",
   "execution_count": 47,
   "metadata": {},
   "outputs": [
    {
     "name": "stderr",
     "output_type": "stream",
     "text": [
      "/usr/lib/python3.6/site-packages/ipykernel_launcher.py:1: ParserWarning: Falling back to the 'python' engine because the 'c' engine does not support regex separators (separators > 1 char and different from '\\s+' are interpreted as regex); you can avoid this warning by specifying engine='python'.\n",
      "  \"\"\"Entry point for launching an IPython kernel.\n"
     ]
    },
    {
     "data": {
      "text/html": [
       "<div>\n",
       "<style>\n",
       "    .dataframe thead tr:only-child th {\n",
       "        text-align: right;\n",
       "    }\n",
       "\n",
       "    .dataframe thead th {\n",
       "        text-align: left;\n",
       "    }\n",
       "\n",
       "    .dataframe tbody tr th {\n",
       "        vertical-align: top;\n",
       "    }\n",
       "</style>\n",
       "<table border=\"1\" class=\"dataframe\">\n",
       "  <thead>\n",
       "    <tr style=\"text-align: right;\">\n",
       "      <th></th>\n",
       "      <th>feature_names</th>\n",
       "      <th>feature_description</th>\n",
       "    </tr>\n",
       "  </thead>\n",
       "  <tbody>\n",
       "    <tr>\n",
       "      <th>0</th>\n",
       "      <td>nb_words_title</td>\n",
       "      <td>Number of words in the article's titles</td>\n",
       "    </tr>\n",
       "    <tr>\n",
       "      <th>1</th>\n",
       "      <td>nb_words_content</td>\n",
       "      <td>Number of words in the article</td>\n",
       "    </tr>\n",
       "    <tr>\n",
       "      <th>2</th>\n",
       "      <td>pp_uniq_words</td>\n",
       "      <td>Proportion of unique words in the article</td>\n",
       "    </tr>\n",
       "    <tr>\n",
       "      <th>3</th>\n",
       "      <td>pp_stop_words</td>\n",
       "      <td>Proportion of stop words (i.e. words predefine...</td>\n",
       "    </tr>\n",
       "    <tr>\n",
       "      <th>4</th>\n",
       "      <td>pp_uniq_non-stop_words</td>\n",
       "      <td>Proportion of non-stop words among unique words</td>\n",
       "    </tr>\n",
       "  </tbody>\n",
       "</table>\n",
       "</div>"
      ],
      "text/plain": [
       "            feature_names                                feature_description\n",
       "0          nb_words_title            Number of words in the article's titles\n",
       "1        nb_words_content                     Number of words in the article\n",
       "2           pp_uniq_words          Proportion of unique words in the article\n",
       "3           pp_stop_words  Proportion of stop words (i.e. words predefine...\n",
       "4  pp_uniq_non-stop_words    Proportion of non-stop words among unique words"
      ]
     },
     "execution_count": 47,
     "metadata": {},
     "output_type": "execute_result"
    }
   ],
   "source": [
    "feature_data = pd.read_csv('data/kaggle_data/features.txt', header=None, sep=\"  \", names=['feature_names', 'feature_description'])\n",
    "feature_data.head(5)"
   ]
  },
  {
   "cell_type": "markdown",
   "metadata": {},
   "source": [
    "** Now, let's load and look at the distribution of number of shares (output). **"
   ]
  },
  {
   "cell_type": "code",
   "execution_count": 50,
   "metadata": {},
   "outputs": [
    {
     "data": {
      "text/html": [
       "<div>\n",
       "<style>\n",
       "    .dataframe thead tr:only-child th {\n",
       "        text-align: right;\n",
       "    }\n",
       "\n",
       "    .dataframe thead th {\n",
       "        text-align: left;\n",
       "    }\n",
       "\n",
       "    .dataframe tbody tr th {\n",
       "        vertical-align: top;\n",
       "    }\n",
       "</style>\n",
       "<table border=\"1\" class=\"dataframe\">\n",
       "  <thead>\n",
       "    <tr style=\"text-align: right;\">\n",
       "      <th></th>\n",
       "      <th>Id</th>\n",
       "      <th>Prediction</th>\n",
       "    </tr>\n",
       "  </thead>\n",
       "  <tbody>\n",
       "    <tr>\n",
       "      <th>0</th>\n",
       "      <td>2000</td>\n",
       "      <td>882</td>\n",
       "    </tr>\n",
       "    <tr>\n",
       "      <th>1</th>\n",
       "      <td>2001</td>\n",
       "      <td>1102</td>\n",
       "    </tr>\n",
       "    <tr>\n",
       "      <th>2</th>\n",
       "      <td>2002</td>\n",
       "      <td>1102</td>\n",
       "    </tr>\n",
       "    <tr>\n",
       "      <th>3</th>\n",
       "      <td>2003</td>\n",
       "      <td>1001</td>\n",
       "    </tr>\n",
       "    <tr>\n",
       "      <th>4</th>\n",
       "      <td>2004</td>\n",
       "      <td>1603</td>\n",
       "    </tr>\n",
       "  </tbody>\n",
       "</table>\n",
       "</div>"
      ],
      "text/plain": [
       "     Id  Prediction\n",
       "0  2000         882\n",
       "1  2001        1102\n",
       "2  2002        1102\n",
       "3  2003        1001\n",
       "4  2004        1603"
      ]
     },
     "execution_count": 50,
     "metadata": {},
     "output_type": "execute_result"
    }
   ],
   "source": [
    "target_data = pd.read_csv('data/kaggle_data/train-targets.csv', sep=\",\")\n",
    "target_data.head(5)"
   ]
  },
  {
   "cell_type": "code",
   "execution_count": 51,
   "metadata": {
    "scrolled": true
   },
   "outputs": [
    {
     "data": {
      "text/plain": [
       "(0, 10000)"
      ]
     },
     "execution_count": 51,
     "metadata": {},
     "output_type": "execute_result"
    },
    {
     "data": {
      "image/png": "[encoded data removed]",
      "text/plain": [
       "<matplotlib.figure.Figure at 0x7fb071ef3470>"
      ]
     },
     "metadata": {},
     "output_type": "display_data"
    }
   ],
   "source": [
    "y_tr = target_data['Prediction'].values\n",
    "plt.hist(y_tr,bins=2000)\n",
    "plt.xlim((0,10000))"
   ]
  },
  {
   "cell_type": "markdown",
   "metadata": {},
   "source": [
    "** Now, let's load and visualize the features. **"
   ]
  },
  {
   "cell_type": "code",
   "execution_count": 52,
   "metadata": {
    "scrolled": true
   },
   "outputs": [
    {
     "data": {
      "text/html": [
       "<div>\n",
       "<style>\n",
       "    .dataframe thead tr:only-child th {\n",
       "        text-align: right;\n",
       "    }\n",
       "\n",
       "    .dataframe thead th {\n",
       "        text-align: left;\n",
       "    }\n",
       "\n",
       "    .dataframe tbody tr th {\n",
       "        vertical-align: top;\n",
       "    }\n",
       "</style>\n",
       "<table border=\"1\" class=\"dataframe\">\n",
       "  <thead>\n",
       "    <tr style=\"text-align: right;\">\n",
       "      <th></th>\n",
       "      <th>nb_words_title</th>\n",
       "      <th>nb_words_content</th>\n",
       "      <th>pp_uniq_words</th>\n",
       "      <th>pp_stop_words</th>\n",
       "      <th>pp_uniq_non-stop_words</th>\n",
       "      <th>nb_links</th>\n",
       "      <th>nb_outside_links</th>\n",
       "      <th>nb_images</th>\n",
       "      <th>nb_videos</th>\n",
       "      <th>ave_word_length</th>\n",
       "      <th>...</th>\n",
       "      <th>pp_neg_words</th>\n",
       "      <th>pp_pos_words_in_nonneutral</th>\n",
       "      <th>ave_polar_pos</th>\n",
       "      <th>min_polar_pos</th>\n",
       "      <th>max_polar_pos</th>\n",
       "      <th>ave_polar_neg</th>\n",
       "      <th>min_polar_neg</th>\n",
       "      <th>max_polar_neg</th>\n",
       "      <th>subj_title</th>\n",
       "      <th>polar_title</th>\n",
       "    </tr>\n",
       "  </thead>\n",
       "  <tbody>\n",
       "    <tr>\n",
       "      <th>2000</th>\n",
       "      <td>9</td>\n",
       "      <td>843</td>\n",
       "      <td>0.5358</td>\n",
       "      <td>2.092000e-09</td>\n",
       "      <td>0.7469</td>\n",
       "      <td>15.0</td>\n",
       "      <td>8</td>\n",
       "      <td>11</td>\n",
       "      <td>1</td>\n",
       "      <td>4</td>\n",
       "      <td>...</td>\n",
       "      <td>0.019230</td>\n",
       "      <td>0.7143</td>\n",
       "      <td>0.4437</td>\n",
       "      <td>0.03333</td>\n",
       "      <td>1.0</td>\n",
       "      <td>-0.3160</td>\n",
       "      <td>-0.8000</td>\n",
       "      <td>-0.05</td>\n",
       "      <td>0.0</td>\n",
       "      <td>0.0</td>\n",
       "    </tr>\n",
       "    <tr>\n",
       "      <th>2001</th>\n",
       "      <td>9</td>\n",
       "      <td>805</td>\n",
       "      <td>0.4196</td>\n",
       "      <td>2.165000e-09</td>\n",
       "      <td>0.5693</td>\n",
       "      <td>8.0</td>\n",
       "      <td>7</td>\n",
       "      <td>1</td>\n",
       "      <td>0</td>\n",
       "      <td>4</td>\n",
       "      <td>...</td>\n",
       "      <td>0.025710</td>\n",
       "      <td>0.5349</td>\n",
       "      <td>0.3081</td>\n",
       "      <td>0.05000</td>\n",
       "      <td>0.8</td>\n",
       "      <td>-0.3463</td>\n",
       "      <td>-0.7143</td>\n",
       "      <td>-0.10</td>\n",
       "      <td>0.9</td>\n",
       "      <td>0.3</td>\n",
       "    </tr>\n",
       "    <tr>\n",
       "      <th>2002</th>\n",
       "      <td>8</td>\n",
       "      <td>145</td>\n",
       "      <td>0.7594</td>\n",
       "      <td>1.163000e-08</td>\n",
       "      <td>0.8488</td>\n",
       "      <td>7.0</td>\n",
       "      <td>3</td>\n",
       "      <td>0</td>\n",
       "      <td>2</td>\n",
       "      <td>4</td>\n",
       "      <td>...</td>\n",
       "      <td>0.007519</td>\n",
       "      <td>0.8333</td>\n",
       "      <td>0.3673</td>\n",
       "      <td>0.13640</td>\n",
       "      <td>0.5</td>\n",
       "      <td>-0.2000</td>\n",
       "      <td>-0.2000</td>\n",
       "      <td>-0.20</td>\n",
       "      <td>0.0</td>\n",
       "      <td>0.0</td>\n",
       "    </tr>\n",
       "    <tr>\n",
       "      <th>2003</th>\n",
       "      <td>12</td>\n",
       "      <td>201</td>\n",
       "      <td>0.6359</td>\n",
       "      <td>9.259000e-09</td>\n",
       "      <td>0.8148</td>\n",
       "      <td>7.0</td>\n",
       "      <td>2</td>\n",
       "      <td>0</td>\n",
       "      <td>0</td>\n",
       "      <td>4</td>\n",
       "      <td>...</td>\n",
       "      <td>0.027030</td>\n",
       "      <td>0.7368</td>\n",
       "      <td>0.3721</td>\n",
       "      <td>0.13640</td>\n",
       "      <td>0.6</td>\n",
       "      <td>-0.4000</td>\n",
       "      <td>-0.4000</td>\n",
       "      <td>-0.40</td>\n",
       "      <td>0.0</td>\n",
       "      <td>0.0</td>\n",
       "    </tr>\n",
       "    <tr>\n",
       "      <th>2004</th>\n",
       "      <td>13</td>\n",
       "      <td>673</td>\n",
       "      <td>0.4609</td>\n",
       "      <td>2.500000e-09</td>\n",
       "      <td>0.5950</td>\n",
       "      <td>8.0</td>\n",
       "      <td>7</td>\n",
       "      <td>1</td>\n",
       "      <td>0</td>\n",
       "      <td>4</td>\n",
       "      <td>...</td>\n",
       "      <td>0.021440</td>\n",
       "      <td>0.5625</td>\n",
       "      <td>0.3500</td>\n",
       "      <td>0.05000</td>\n",
       "      <td>0.6</td>\n",
       "      <td>-0.2435</td>\n",
       "      <td>-0.8000</td>\n",
       "      <td>-0.10</td>\n",
       "      <td>0.0</td>\n",
       "      <td>0.0</td>\n",
       "    </tr>\n",
       "  </tbody>\n",
       "</table>\n",
       "<p>5 rows × 43 columns</p>\n",
       "</div>"
      ],
      "text/plain": [
       "      nb_words_title  nb_words_content  pp_uniq_words  pp_stop_words  \\\n",
       "2000               9               843         0.5358   2.092000e-09   \n",
       "2001               9               805         0.4196   2.165000e-09   \n",
       "2002               8               145         0.7594   1.163000e-08   \n",
       "2003              12               201         0.6359   9.259000e-09   \n",
       "2004              13               673         0.4609   2.500000e-09   \n",
       "\n",
       "      pp_uniq_non-stop_words  nb_links  nb_outside_links  nb_images  \\\n",
       "2000                  0.7469      15.0                 8         11   \n",
       "2001                  0.5693       8.0                 7          1   \n",
       "2002                  0.8488       7.0                 3          0   \n",
       "2003                  0.8148       7.0                 2          0   \n",
       "2004                  0.5950       8.0                 7          1   \n",
       "\n",
       "      nb_videos  ave_word_length     ...       pp_neg_words  \\\n",
       "2000          1                4     ...           0.019230   \n",
       "2001          0                4     ...           0.025710   \n",
       "2002          2                4     ...           0.007519   \n",
       "2003          0                4     ...           0.027030   \n",
       "2004          0                4     ...           0.021440   \n",
       "\n",
       "      pp_pos_words_in_nonneutral  ave_polar_pos  min_polar_pos  max_polar_pos  \\\n",
       "2000                      0.7143         0.4437        0.03333            1.0   \n",
       "2001                      0.5349         0.3081        0.05000            0.8   \n",
       "2002                      0.8333         0.3673        0.13640            0.5   \n",
       "2003                      0.7368         0.3721        0.13640            0.6   \n",
       "2004                      0.5625         0.3500        0.05000            0.6   \n",
       "\n",
       "      ave_polar_neg  min_polar_neg  max_polar_neg  subj_title  polar_title  \n",
       "2000        -0.3160        -0.8000          -0.05         0.0          0.0  \n",
       "2001        -0.3463        -0.7143          -0.10         0.9          0.3  \n",
       "2002        -0.2000        -0.2000          -0.20         0.0          0.0  \n",
       "2003        -0.4000        -0.4000          -0.40         0.0          0.0  \n",
       "2004        -0.2435        -0.8000          -0.10         0.0          0.0  \n",
       "\n",
       "[5 rows x 43 columns]"
      ]
     },
     "execution_count": 52,
     "metadata": {},
     "output_type": "execute_result"
    }
   ],
   "source": [
    "list_feature_names = list(feature_data['feature_names'])\n",
    "\n",
    "train_data = pd.read_csv('data/kaggle_data/train.csv', header=None, sep=\" \", names=list_feature_names)\n",
    "train_data.head(5)"
   ]
  },
  {
   "cell_type": "code",
   "execution_count": 53,
   "metadata": {},
   "outputs": [
    {
     "data": {
      "text/html": [
       "<div>\n",
       "<style>\n",
       "    .dataframe thead tr:only-child th {\n",
       "        text-align: right;\n",
       "    }\n",
       "\n",
       "    .dataframe thead th {\n",
       "        text-align: left;\n",
       "    }\n",
       "\n",
       "    .dataframe tbody tr th {\n",
       "        vertical-align: top;\n",
       "    }\n",
       "</style>\n",
       "<table border=\"1\" class=\"dataframe\">\n",
       "  <thead>\n",
       "    <tr style=\"text-align: right;\">\n",
       "      <th></th>\n",
       "      <th>nb_words_title</th>\n",
       "      <th>nb_words_content</th>\n",
       "      <th>pp_uniq_words</th>\n",
       "      <th>pp_stop_words</th>\n",
       "      <th>pp_uniq_non-stop_words</th>\n",
       "      <th>nb_links</th>\n",
       "      <th>nb_outside_links</th>\n",
       "      <th>nb_images</th>\n",
       "      <th>nb_videos</th>\n",
       "      <th>ave_word_length</th>\n",
       "      <th>...</th>\n",
       "      <th>pp_neg_words</th>\n",
       "      <th>pp_pos_words_in_nonneutral</th>\n",
       "      <th>ave_polar_pos</th>\n",
       "      <th>min_polar_pos</th>\n",
       "      <th>max_polar_pos</th>\n",
       "      <th>ave_polar_neg</th>\n",
       "      <th>min_polar_neg</th>\n",
       "      <th>max_polar_neg</th>\n",
       "      <th>subj_title</th>\n",
       "      <th>polar_title</th>\n",
       "    </tr>\n",
       "  </thead>\n",
       "  <tbody>\n",
       "    <tr>\n",
       "      <th>0</th>\n",
       "      <td>12</td>\n",
       "      <td>258</td>\n",
       "      <td>0.5745</td>\n",
       "      <td>6.897000e-09</td>\n",
       "      <td>0.6897</td>\n",
       "      <td>4.0</td>\n",
       "      <td>2</td>\n",
       "      <td>0</td>\n",
       "      <td>0</td>\n",
       "      <td>4</td>\n",
       "      <td>...</td>\n",
       "      <td>0.01653</td>\n",
       "      <td>0.7143</td>\n",
       "      <td>0.2967</td>\n",
       "      <td>0.10000</td>\n",
       "      <td>1.0</td>\n",
       "      <td>-0.2344</td>\n",
       "      <td>-0.3</td>\n",
       "      <td>-0.1875</td>\n",
       "      <td>0.125</td>\n",
       "      <td>0.0</td>\n",
       "    </tr>\n",
       "    <tr>\n",
       "      <th>1</th>\n",
       "      <td>8</td>\n",
       "      <td>11</td>\n",
       "      <td>0.0000</td>\n",
       "      <td>1.000000e+00</td>\n",
       "      <td>0.0000</td>\n",
       "      <td>0.0</td>\n",
       "      <td>0</td>\n",
       "      <td>0</td>\n",
       "      <td>0</td>\n",
       "      <td>0</td>\n",
       "      <td>...</td>\n",
       "      <td>0.00000</td>\n",
       "      <td>0.0000</td>\n",
       "      <td>0.0000</td>\n",
       "      <td>0.00000</td>\n",
       "      <td>0.0</td>\n",
       "      <td>0.0000</td>\n",
       "      <td>0.0</td>\n",
       "      <td>0.0000</td>\n",
       "      <td>0.525</td>\n",
       "      <td>0.3</td>\n",
       "    </tr>\n",
       "    <tr>\n",
       "      <th>2</th>\n",
       "      <td>10</td>\n",
       "      <td>263</td>\n",
       "      <td>0.7249</td>\n",
       "      <td>6.623000e-09</td>\n",
       "      <td>0.8543</td>\n",
       "      <td>6.0</td>\n",
       "      <td>3</td>\n",
       "      <td>2</td>\n",
       "      <td>0</td>\n",
       "      <td>5</td>\n",
       "      <td>...</td>\n",
       "      <td>0.04701</td>\n",
       "      <td>0.5000</td>\n",
       "      <td>0.2617</td>\n",
       "      <td>0.10000</td>\n",
       "      <td>1.0</td>\n",
       "      <td>-0.2170</td>\n",
       "      <td>-0.5</td>\n",
       "      <td>-0.1250</td>\n",
       "      <td>0.000</td>\n",
       "      <td>-0.2</td>\n",
       "    </tr>\n",
       "    <tr>\n",
       "      <th>3</th>\n",
       "      <td>13</td>\n",
       "      <td>1281</td>\n",
       "      <td>0.4067</td>\n",
       "      <td>1.422000e-09</td>\n",
       "      <td>0.5903</td>\n",
       "      <td>29.0</td>\n",
       "      <td>4</td>\n",
       "      <td>1</td>\n",
       "      <td>1</td>\n",
       "      <td>4</td>\n",
       "      <td>...</td>\n",
       "      <td>0.01512</td>\n",
       "      <td>0.7500</td>\n",
       "      <td>0.3585</td>\n",
       "      <td>0.03333</td>\n",
       "      <td>1.0</td>\n",
       "      <td>-0.2403</td>\n",
       "      <td>-0.5</td>\n",
       "      <td>-0.0500</td>\n",
       "      <td>0.000</td>\n",
       "      <td>0.0</td>\n",
       "    </tr>\n",
       "    <tr>\n",
       "      <th>4</th>\n",
       "      <td>9</td>\n",
       "      <td>107</td>\n",
       "      <td>0.8152</td>\n",
       "      <td>1.538000e-08</td>\n",
       "      <td>0.8154</td>\n",
       "      <td>5.0</td>\n",
       "      <td>2</td>\n",
       "      <td>0</td>\n",
       "      <td>0</td>\n",
       "      <td>4</td>\n",
       "      <td>...</td>\n",
       "      <td>0.02151</td>\n",
       "      <td>0.6667</td>\n",
       "      <td>0.4881</td>\n",
       "      <td>0.28570</td>\n",
       "      <td>1.0</td>\n",
       "      <td>-0.8000</td>\n",
       "      <td>-1.0</td>\n",
       "      <td>-0.6000</td>\n",
       "      <td>0.000</td>\n",
       "      <td>0.0</td>\n",
       "    </tr>\n",
       "  </tbody>\n",
       "</table>\n",
       "<p>5 rows × 43 columns</p>\n",
       "</div>"
      ],
      "text/plain": [
       "   nb_words_title  nb_words_content  pp_uniq_words  pp_stop_words  \\\n",
       "0              12               258         0.5745   6.897000e-09   \n",
       "1               8                11         0.0000   1.000000e+00   \n",
       "2              10               263         0.7249   6.623000e-09   \n",
       "3              13              1281         0.4067   1.422000e-09   \n",
       "4               9               107         0.8152   1.538000e-08   \n",
       "\n",
       "   pp_uniq_non-stop_words  nb_links  nb_outside_links  nb_images  nb_videos  \\\n",
       "0                  0.6897       4.0                 2          0          0   \n",
       "1                  0.0000       0.0                 0          0          0   \n",
       "2                  0.8543       6.0                 3          2          0   \n",
       "3                  0.5903      29.0                 4          1          1   \n",
       "4                  0.8154       5.0                 2          0          0   \n",
       "\n",
       "   ave_word_length     ...       pp_neg_words  pp_pos_words_in_nonneutral  \\\n",
       "0                4     ...            0.01653                      0.7143   \n",
       "1                0     ...            0.00000                      0.0000   \n",
       "2                5     ...            0.04701                      0.5000   \n",
       "3                4     ...            0.01512                      0.7500   \n",
       "4                4     ...            0.02151                      0.6667   \n",
       "\n",
       "   ave_polar_pos  min_polar_pos  max_polar_pos  ave_polar_neg  min_polar_neg  \\\n",
       "0         0.2967        0.10000            1.0        -0.2344           -0.3   \n",
       "1         0.0000        0.00000            0.0         0.0000            0.0   \n",
       "2         0.2617        0.10000            1.0        -0.2170           -0.5   \n",
       "3         0.3585        0.03333            1.0        -0.2403           -0.5   \n",
       "4         0.4881        0.28570            1.0        -0.8000           -1.0   \n",
       "\n",
       "   max_polar_neg  subj_title  polar_title  \n",
       "0        -0.1875       0.125          0.0  \n",
       "1         0.0000       0.525          0.3  \n",
       "2        -0.1250       0.000         -0.2  \n",
       "3        -0.0500       0.000          0.0  \n",
       "4        -0.6000       0.000          0.0  \n",
       "\n",
       "[5 rows x 43 columns]"
      ]
     },
     "execution_count": 53,
     "metadata": {},
     "output_type": "execute_result"
    }
   ],
   "source": [
    "test_data = pd.read_csv('data/kaggle_data/test-val.csv', header=None, sep=\" \", names=list_feature_names)\n",
    "test_data.head(5)"
   ]
  },
  {
   "cell_type": "markdown",
   "metadata": {},
   "source": [
    "Let us use visualizations to explore the relationships between pairs of features, and between a feature an the output:"
   ]
  },
  {
   "cell_type": "code",
   "execution_count": 54,
   "metadata": {},
   "outputs": [
    {
     "name": "stderr",
     "output_type": "stream",
     "text": [
      "/usr/lib/python3.6/site-packages/ipykernel_launcher.py:3: FutureWarning: pandas.scatter_matrix is deprecated. Use pandas.plotting.scatter_matrix instead\n",
      "  This is separate from the ipykernel package so we can avoid doing imports until\n"
     ]
    },
    {
     "data": {
      "text/plain": [
       "array([[<matplotlib.axes._subplots.AxesSubplot object at 0x7fb06cefaf28>,\n",
       "        <matplotlib.axes._subplots.AxesSubplot object at 0x7fb06f352d30>],\n",
       "       [<matplotlib.axes._subplots.AxesSubplot object at 0x7fb06f2adf60>,\n",
       "        <matplotlib.axes._subplots.AxesSubplot object at 0x7fb06f29c7b8>]], dtype=object)"
      ]
     },
     "execution_count": 54,
     "metadata": {},
     "output_type": "execute_result"
    },
    {
     "data": {
      "image/png": "[encoded data removed]",
      "text/plain": [
       "<matplotlib.figure.Figure at 0x7fb06ce69710>"
      ]
     },
     "metadata": {},
     "output_type": "display_data"
    }
   ],
   "source": [
    "from pandas import scatter_matrix\n",
    "scatter_matrix(train_data.get([\"nb_words_content\", \"pp_uniq_words\"]), alpha=0.2,\n",
    "               figsize=(6, 6), diagonal='kde')"
   ]
  },
  {
   "cell_type": "code",
   "execution_count": 55,
   "metadata": {
    "scrolled": true
   },
   "outputs": [
    {
     "name": "stderr",
     "output_type": "stream",
     "text": [
      "/usr/lib/python3.6/site-packages/seaborn/apionly.py:6: UserWarning: As seaborn no longer sets a default style on import, the seaborn.apionly module is deprecated. It will be removed in a future version.\n",
      "  warnings.warn(msg, UserWarning)\n"
     ]
    },
    {
     "data": {
      "text/plain": [
       "<seaborn.axisgrid.JointGrid at 0x7fb06cf38828>"
      ]
     },
     "execution_count": 55,
     "metadata": {},
     "output_type": "execute_result"
    },
    {
     "data": {
      "image/png": "[encoded data removed]",
      "text/plain": [
       "<matplotlib.figure.Figure at 0x7fb06f3c1ac8>"
      ]
     },
     "metadata": {},
     "output_type": "display_data"
    }
   ],
   "source": [
    "import seaborn.apionly as sns\n",
    "sns.set_style('whitegrid')\n",
    "\n",
    "sns.jointplot(\"nb_words_content\", \"pp_uniq_words\", data = train_data, \n",
    "              kind='reg', size=6, space=0, color='b')"
   ]
  },
  {
   "cell_type": "code",
   "execution_count": 56,
   "metadata": {
    "scrolled": false
   },
   "outputs": [
    {
     "data": {
      "text/plain": [
       "<seaborn.axisgrid.JointGrid at 0x7fb06ce85630>"
      ]
     },
     "execution_count": 56,
     "metadata": {},
     "output_type": "execute_result"
    },
    {
     "data": {
      "image/png": "[encoded data removed]",
      "text/plain": [
       "<matplotlib.figure.Figure at 0x7fb06ce85208>"
      ]
     },
     "metadata": {},
     "output_type": "display_data"
    }
   ],
   "source": [
    "sns.jointplot(train_data[\"pp_neg_words\"], target_data['Prediction'], \n",
    "              kind='reg', ylim=5000, size=6, space=0, color='b')"
   ]
  },
  {
   "cell_type": "markdown",
   "metadata": {},
   "source": [
    "** Question: ** Change the features you display to explore relationships. What conclusions are you drawing from this exploratory analysis? Are you going to keep all the features in your predictors?"
   ]
  },
  {
   "cell_type": "markdown",
   "metadata": {},
   "source": [
    "__Answer:__"
   ]
  },
  {
   "cell_type": "markdown",
   "metadata": {},
   "source": [
    "# 2. Data transformation"
   ]
  },
  {
   "cell_type": "markdown",
   "metadata": {},
   "source": [
    "### 2.1 feature engineering\n",
    "This notion includes all kinds of manual modification and creation of features. All are of course problem dependant.\n",
    "* __Encoding categorical features:__ if a K-categorical feature is not ordered (categorie 1 is as far to categorie 2 as to categorie 3 etc), then it must not be encoded by a single integer specifying the categorie. We can encode such feature by creating K-1 binary features encoding the belonging to k-th category. (see [link](http://scikit-learn.org/stable/modules/preprocessing.html#encoding-categorical-features))\n",
    "* __Feature binarization:__ some continuous features can gain predictive power when binarized. For exemple, in some prediction tasks, weekdays could be split into $working\\ days$ and $not\\ working\\ days$. (see [link](http://scikit-learn.org/stable/modules/preprocessing.html#binarization))\n",
    "* __Imputation of missing values:__ there are multiple strategies to input missing values when required (see [link](http://scikit-learn.org/stable/modules/preprocessing.html#imputation-of-missing-values)). There is no missing value for any feature of the KaggleInClass challenge.\n",
    "* __Dealing with time features or other periodic features:__ when considering the hour of the day as a feature, we can't encode it by the an integer between 1 and 24 as midnigth is as close to 11pm to 1am. An easy strategy to encode periodic features is to apply this transformation $x \\mapsto \\sin(\\frac{2\\pi x}{T})$ (T is the period). In the case of the hour of the day, it is   $x \\mapsto \\sin(\\frac{2\\pi x}{24})$. \n",
    "* __Generating new features:__ you might want to combine the existing features into new ones that seem informative to you. It can be useful for exemple, notably when working with linear models, to generate polynomial features from the original ones. You can also use external data to transform your features; for instance, if one feature is a date, adding a feature that qualifies whether the day is a working day, a weekday or a holiday can be useful.  \n",
    "* ...\n",
    "\n",
    "In many practical cases, feature engineering is the key to obtaining a huge improvement in performance."
   ]
  },
  {
   "cell_type": "markdown",
   "metadata": {},
   "source": [
    "** Question: ** How do you want to engineer the features of the challenge (first, you can start encoding the categorical features)? Keep thinking of this question all along the challenge."
   ]
  },
  {
   "cell_type": "markdown",
   "metadata": {},
   "source": [
    "Let us encode weekdays as a categorical feature rather than a periodic one. Remember this transformation later in the challenge: does it help your performance?"
   ]
  },
  {
   "cell_type": "code",
   "execution_count": 71,
   "metadata": {},
   "outputs": [
    {
     "name": "stdout",
     "output_type": "stream",
     "text": [
      "2000    1\n",
      "2001    2\n",
      "2002    0\n",
      "2003    2\n",
      "2004    2\n",
      "2005    3\n",
      "2006    0\n",
      "2007    4\n",
      "2008    2\n",
      "2009    2\n",
      "2010    5\n",
      "2011    1\n",
      "2012    2\n",
      "2013    1\n",
      "2014    1\n",
      "2015    3\n",
      "2016    2\n",
      "2017    5\n",
      "2018    3\n",
      "2019    4\n",
      "2020    4\n",
      "2021    0\n",
      "2022    0\n",
      "2023    3\n",
      "2024    3\n",
      "2025    3\n",
      "2026    4\n",
      "2027    2\n",
      "2028    6\n",
      "2029    6\n",
      "2030    2\n",
      "2031    2\n",
      "2032    2\n",
      "2033    2\n",
      "2034    1\n",
      "2035    2\n",
      "2036    1\n",
      "2037    5\n",
      "2038    2\n",
      "2039    2\n",
      "2040    1\n",
      "2041    0\n",
      "2042    2\n",
      "2043    2\n",
      "2044    2\n",
      "2045    2\n",
      "2046    2\n",
      "2047    2\n",
      "2048    0\n",
      "2049    2\n",
      "2050    0\n",
      "2051    6\n",
      "2052    5\n",
      "2053    0\n",
      "2054    0\n",
      "Name: weekday, dtype: int64\n"
     ]
    }
   ],
   "source": [
    "# Get the weekday data and encode it using a dummy categorical encoding\n",
    "weekday_data = pd.get_dummies(train_data['weekday'], prefix='weekday', drop_first=True)\n",
    "print(train_data.get('weekday').head(55))\n",
    "\n",
    "# Get the rest of the data\n",
    "other_data = train_data.drop(['weekday'], axis=1)\n",
    "\n",
    "# Create a new data set by concatenation of the new weekday data and the old rest of the data\n",
    "training_data = pd.concat([weekday_data, other_data], axis=1)\n",
    "\n",
    "# Print the created training data.\n",
    "#training_data.head(5)"
   ]
  },
  {
   "cell_type": "markdown",
   "metadata": {},
   "source": [
    "__Question:__ Repeat the process for the other categorical variable(s) in your data. Do not forget to apply your transformation to the test dataset as well!"
   ]
  },
  {
   "cell_type": "code",
   "execution_count": null,
   "metadata": {},
   "outputs": [],
   "source": [
    "# TODO"
   ]
  },
  {
   "cell_type": "markdown",
   "metadata": {},
   "source": [
    "### 2.2 Preprocessing data: standardization\n",
    "Standardization of a dataset is a common requirement for many machine learning estimators: many algorithms are built on the assumption that the individual features look like standard normally distributed data (e.g. Gaussian with 0 mean and unit variance) and might behave badly if this is not the case. If a feature has a variance that is orders of magnitude larger that others, it might dominate the objective function and make the estimator unable to learn from other features correctly as expected.\n",
    "\n",
    "In practice we often ignore the shape of the distribution and just transform the data to center it by removing the mean value of each feature, then scale it by dividing non-constant features by their standard deviation.\n",
    "\n",
    "Scikit-learn offers tools to deal with this issue ([link](http://scikit-learn.org/stable/modules/preprocessing.html#standardization-or-mean-removal-and-variance-scaling))"
   ]
  },
  {
   "cell_type": "code",
   "execution_count": null,
   "metadata": {
    "collapsed": true
   },
   "outputs": [],
   "source": [
    "from sklearn import preprocessing\n",
    "#X_scaled = preprocessing.scale(X)"
   ]
  },
  {
   "cell_type": "markdown",
   "metadata": {},
   "source": [
    "Let us visualize the distribution of some the features of the data. Be careful when standardizing features with outliers! "
   ]
  },
  {
   "cell_type": "code",
   "execution_count": null,
   "metadata": {
    "scrolled": false
   },
   "outputs": [],
   "source": [
    "fig = plt.figure(figsize=(12, 8)) # (width, height)\n",
    "\n",
    "feature_1 = 'pp_uniq_words'\n",
    "fig.add_subplot(221) # 2 x 2 grid, 1st subplot\n",
    "h = plt.hist(training_data[feature_1].values, bins=30, color='blue')\n",
    "plt.title('Feature %s (not scaled)' % feature_1, fontsize=16)\n",
    "\n",
    "fig.add_subplot(222) # 2 x 2 grid, 2nd subplot\n",
    "h = plt.hist(preprocessing.scale(training_data[feature_1].values), bins=30, color='orange')\n",
    "plt.title('Feature %s (scaled)' % feature_1, fontsize=16)\n",
    "\n",
    "feature_2 = 'nb_words_content'\n",
    "fig.add_subplot(223) # 2 x 2 grid, 3rd subplot\n",
    "h = plt.hist(training_data[feature_2].values, bins=30, color='blue')\n",
    "plt.title('Feature %s (not scaled)' % feature_2, fontsize=16)\n",
    "\n",
    "fig.add_subplot(224) # 2 x 2 grid, 4th subplot\n",
    "h = plt.hist(preprocessing.scale(training_data[feature_2].values), bins=30, color='orange')\n",
    "plt.title('Feature %s (scaled)' % feature_2, fontsize=16)\n",
    "\n",
    "plt.tight_layout() # improve spacing between subplots"
   ]
  },
  {
   "cell_type": "markdown",
   "metadata": {},
   "source": [
    "### 2.3 Preprocessing data: sample normalization\n",
    "Normalization is the process of scaling individual samples to have unit norm. It can be useful when using machine learning algorithms that use the distance between samples.\n",
    "\n",
    "We will further discuss normalization in the next labs."
   ]
  },
  {
   "cell_type": "code",
   "execution_count": null,
   "metadata": {},
   "outputs": [],
   "source": [
    "#X_norm = preprocessing.normalize(X)"
   ]
  },
  {
   "cell_type": "markdown",
   "metadata": {},
   "source": [
    "### 2.4 Unsupervised projection\n",
    "If your number of features is high, it may be useful to reduce it with an unsupervised step prior to supervised steps. \n",
    "\n",
    "We have already worked on a widly used dimentionality reduction method in `Lab 1`, the Principal Component Analysis. \n",
    "\n",
    "We will discuss in `Lab 5` the combinaison of dimentionality reduction and a predictor."
   ]
  },
  {
   "cell_type": "markdown",
   "metadata": {},
   "source": [
    "### 2.5 Feature selection\n",
    "See [link](http://scikit-learn.org/stable/modules/feature_selection.html).\n",
    "\n",
    "It may be useful to select a restricted number of important features to increase their predictive power. When the number of feature is particularly bigger than the number od instance, this issue of major importance.\n",
    "\n",
    "Multiple strategies can be considered depending on the problem such like:\n",
    "* considering the most varying features, condering the most correlated features to the output etc\n",
    "* using feed forward selection procedure: recursively adding features one by one by incresing improvement of performance\n",
    "* using embbeded feature selection like lasso or ElasticNet (see lab 5)\n",
    "* computing feature importance (via bagging procedure like [randomized lasso](https://stat.ethz.ch/~nicolai/stability.pdf) or bagging trees (see lab 5) for exemple) and thresholding the feature.\n",
    "* ..."
   ]
  },
  {
   "cell_type": "markdown",
   "metadata": {},
   "source": [
    "# 3. Model evaluation and model selection"
   ]
  },
  {
   "cell_type": "markdown",
   "metadata": {},
   "source": [
    "### 3.1 Our first classifier: Gaussian Naive Bayes\n",
    "Documentation: http://scikit-learn.org/stable/modules/generated/sklearn.naive_bayes.GaussianNB.html \n",
    "\n",
    "In order to start thinking about model evaluation and model selection, we will convert the regression problem of the KaggleInClass challenge into a classification task in order to to work with the first classifier we studied in class: the Gaussian Naive Bayes.\n",
    "\n",
    "Our goal here is to try to classify points between astonishingly and not astonishingly shared articles. Based on the distribution of the number of shares, the separation can be set at 1800 shares."
   ]
  },
  {
   "cell_type": "code",
   "execution_count": null,
   "metadata": {},
   "outputs": [],
   "source": [
    "# Transform output into a classification task.\n",
    "y_clf = np.where(y_tr >= 1800, 1, 0)\n",
    "print(np.where(y_clf==0)[0].shape)\n",
    "print(np.where(y_clf==1)[0].shape)"
   ]
  },
  {
   "cell_type": "code",
   "execution_count": null,
   "metadata": {},
   "outputs": [],
   "source": [
    "X_clf = training_data.values"
   ]
  },
  {
   "cell_type": "code",
   "execution_count": null,
   "metadata": {
    "collapsed": true
   },
   "outputs": [],
   "source": [
    "# import Gaussian Naive Bayes\n",
    "from sklearn.naive_bayes import GaussianNB"
   ]
  },
  {
   "cell_type": "code",
   "execution_count": null,
   "metadata": {
    "collapsed": true
   },
   "outputs": [],
   "source": [
    "# create a Gaussian Naive Bayes classifier i.e. an instance of GaussianNB\n",
    "gnb = GaussianNB()"
   ]
  },
  {
   "cell_type": "code",
   "execution_count": null,
   "metadata": {},
   "outputs": [],
   "source": [
    "# fit the classifier to the data\n",
    "gnb.fit(X_clf, y_clf)"
   ]
  },
  {
   "cell_type": "code",
   "execution_count": null,
   "metadata": {},
   "outputs": [],
   "source": [
    "# predict on the same data\n",
    "y_pred = gnb.predict(X_clf)"
   ]
  },
  {
   "cell_type": "code",
   "execution_count": null,
   "metadata": {},
   "outputs": [],
   "source": [
    "# compute the number of mislabeled articles\n",
    "print(\"Number of mislabeled points out of a total %d points : %d\" % \\\n",
    "      (X_clf.shape[0], (y_clf != y_pred).sum()))"
   ]
  },
  {
   "cell_type": "markdown",
   "metadata": {},
   "source": [
    "Note than all predictors implemented in the sklearn library are trained and applied via the `fit` and `predict` (or `predict_proba`) methods.\n",
    "\n",
    "**Question:** What are the parameters of the model we have trained? How many of them are they? How can you access them?"
   ]
  },
  {
   "cell_type": "code",
   "execution_count": null,
   "metadata": {
    "scrolled": true
   },
   "outputs": [],
   "source": [
    "# Hint\n",
    "gnb.__dict__"
   ]
  },
  {
   "cell_type": "markdown",
   "metadata": {},
   "source": [
    "### 3.2 Model Evaluation"
   ]
  },
  {
   "cell_type": "markdown",
   "metadata": {},
   "source": [
    "You must have a look at http://scikit-learn.org/stable/modules/model_evaluation.html which shows and details a list of metrics for evaluating regression or classification models."
   ]
  },
  {
   "cell_type": "markdown",
   "metadata": {},
   "source": [
    "In the case of regression, the most commonly used metrics are :\n",
    "* `mean squared errors`\n",
    "* `mean absolute errors` which gives less importance to errors of very bad prediction and more importance to errors of good predictions as the following plot shows than `mean squared errors`\n",
    "* `R2` (coefficient of determination) which provides a measure of how well future samples are likely to be predicted by the model."
   ]
  },
  {
   "cell_type": "code",
   "execution_count": null,
   "metadata": {},
   "outputs": [],
   "source": [
    "x = np.arange(-2,2,0.01)\n",
    "plt.plot(x,x*x, 'blue', label='$x^2$')\n",
    "plt.plot(x,abs(x), 'orange', label='|x|')\n",
    "plt.legend(loc=\"upper center\")\n",
    "plt.show()"
   ]
  },
  {
   "cell_type": "markdown",
   "metadata": {},
   "source": [
    "In the case of classification, lots of metrics are used depending on the considered problem:\n",
    "\n",
    "* `accuracy` is a default performance measure computing the proportion of missclassified tested instances\n",
    "* `sensitivity` or 'true positive rate' is the proportion of well classified positive samples\n",
    "* `specificity` or 'true negative rate' is the proportion of well classified negative samples\n",
    "\n",
    "* `precision` is the ability of the classifier not to label as positive a sample that is negative. Like in the case of cancer, we really want to avoid diagnose a cancer to somebody who does not have one.\n",
    "* `recall` is the ability of the classifier to find all the positive samples.\n",
    "    \n",
    "* `the area under the precision-recall curve`\n",
    "* `the area under the Receiver operating characteristic (ROC) curve`  "
   ]
  },
  {
   "cell_type": "markdown",
   "metadata": {},
   "source": [
    "**Question** Use the sklearn library to compute the accuracy score of the above prediction."
   ]
  },
  {
   "cell_type": "code",
   "execution_count": null,
   "metadata": {},
   "outputs": [],
   "source": [
    "from sklearn import metrics\n",
    "# Score the predictions\n",
    "print(\"Accuracy: %.3f\" % # TODO\n",
    "         )"
   ]
  },
  {
   "cell_type": "markdown",
   "metadata": {},
   "source": [
    "Building an ROC curve requires to use the probability estimates for the test data points *before* they are thresholded."
   ]
  },
  {
   "cell_type": "code",
   "execution_count": null,
   "metadata": {
    "scrolled": true
   },
   "outputs": [],
   "source": [
    "# Predict probability estimates instead of 0/1 class labels\n",
    "y_prob = gnb.predict_proba(X_clf)\n",
    "print(y_prob.shape)"
   ]
  },
  {
   "cell_type": "markdown",
   "metadata": {},
   "source": [
    "**Question:** `y_prob` returns two values for each data point because it returns one probability estimate per class for each data point. The order in which the classes appear are given by `gnb.classes_ `. How do you get the 1-dimensional array that only contains the estimated probability for each point to belong to the positive class?"
   ]
  },
  {
   "cell_type": "code",
   "execution_count": null,
   "metadata": {
    "scrolled": true
   },
   "outputs": [],
   "source": [
    "pos_index = list(gnb.classes_).index(1)\n",
    "\n",
    "# ROC curve\n",
    "fpr, tpr, thresholds = metrics.roc_curve(y_clf, y_prob[:, pos_index], pos_label=1)\n",
    "\n",
    "# Area under the ROC curve\n",
    "auc = metrics.auc(fpr, tpr)\n",
    "\n",
    "# Plot the ROC curve\n",
    "plt.plot(fpr, tpr, '-', color='orange', label='AUC = %0.3f' % auc)\n",
    "\n",
    "plt.xlabel('False Positive Rate', fontsize=16)\n",
    "plt.ylabel('True Positive Rate', fontsize=16)\n",
    "plt.title('ROC curve: Gaussian Naive Bayes', fontsize=16)\n",
    "plt.legend(loc=\"lower right\")"
   ]
  },
  {
   "cell_type": "markdown",
   "metadata": {},
   "source": [
    "**Question:** What is it problematic to have evaluated our classifier on the training data? "
   ]
  },
  {
   "cell_type": "markdown",
   "metadata": {},
   "source": []
  },
  {
   "cell_type": "markdown",
   "metadata": {},
   "source": [
    "### 3.3 Model Selection: cross-validation"
   ]
  },
  {
   "cell_type": "markdown",
   "metadata": {},
   "source": [
    "We will now use the function `make_Kfolds` you have implemented in the first section to evaluate the accuracy of your model via a 5-fold cross-validation scheme. We will compare the results you obtained with those you get with scikit-learn's implementation of the cross-validation scheme. "
   ]
  },
  {
   "cell_type": "code",
   "execution_count": null,
   "metadata": {
    "scrolled": true
   },
   "outputs": [],
   "source": [
    "# Set up a cross-validation with make_Kfolds\n",
    "perso_folds = # TODO\n",
    "\n",
    "# Set up a cross-validation with sklearn\n",
    "sk_folds = # TODO"
   ]
  },
  {
   "cell_type": "code",
   "execution_count": null,
   "metadata": {},
   "outputs": [],
   "source": [
    "# Assess performance using the cross_validate function you have implemented\n",
    "# On perso_folds\n",
    "gnb = GaussianNB()\n",
    "y_prob_cv_perso = # TODO use cross_validate and perso_folds\n",
    "print(\"Your own cv-scheme: Accuracy: %.3f\" % #TODO\n",
    "     )\n",
    "\n",
    "# On sk_folds\n",
    "gnb = GaussianNB()\n",
    "y_prob_cv_sk = # TODO use cross_validate and perso_folds\n",
    "print(\"Sklearn cv-scheme: Accuracy: %.3f\" % # TODO\n",
    "     )"
   ]
  },
  {
   "cell_type": "markdown",
   "metadata": {},
   "source": [
    "We will now plot the ROC curve corresponding to your predictions."
   ]
  },
  {
   "cell_type": "code",
   "execution_count": null,
   "metadata": {},
   "outputs": [],
   "source": [
    "# Compute the ROC curve corresponding to the y_prob_cv_perso predictions\n",
    "fpr, tpr, thresholds = metrics.roc_curve(y_clf, y_prob_cv_perso, pos_label=1)\n",
    "\n",
    "# Area under the ROC curve\n",
    "auc = metrics.auc(fpr, tpr)\n",
    "print(\"Your own cv-scheme: AUROC: %.3f\" % auc)\n",
    "\n",
    "# Plot the ROC curve\n",
    "plt.plot(fpr, tpr, '-', color='orange', label='AUC = %0.3f' % auc)\n",
    "\n",
    "# TODO: plot in blue the ROC curve corresponding to the y_prob_cv_sk predictions\n",
    "\n",
    "plt.xlabel('False Positive Rate', fontsize=16)\n",
    "plt.ylabel('True Positive Rate', fontsize=16)\n",
    "plt.title('ROC curve: Gaussian Naive Bayes', fontsize=16)\n",
    "plt.legend(loc=\"lower right\")"
   ]
  },
  {
   "cell_type": "markdown",
   "metadata": {},
   "source": [
    "__Question:__ The `sklearn.cross_validation` module provides some utilities to make cross-validated predictions. Compare the results you obtained to what they return.\n",
    "\n",
    "Documentation: [cross_val_score](http://scikit-learn.org/stable/modules/generated/sklearn.model_selection.cross_val_score.html)"
   ]
  },
  {
   "cell_type": "code",
   "execution_count": null,
   "metadata": {},
   "outputs": [],
   "source": [
    "gnb = GaussianNB()\n",
    "skf = model_selection.StratifiedKFold(5, shuffle=True, random_state=91)\n",
    "\n",
    "# Use model_selection.cross_val_score to compute the average cross-validated roc_auc score \n",
    "# of gnb on (X_clf, y_clf), using the skf iterator.\n",
    "cv_aucs = # TODO\n",
    "\n",
    "print(np.mean(cv_aucs))\n",
    "\n",
    "# Note that averaging the AUCs obtained over 10 folds is not the same as \n",
    "# globally computing the AUC for the predictions made within the cross-validation loop."
   ]
  },
  {
   "cell_type": "markdown",
   "metadata": {},
   "source": [
    "__Question__ Compare scikit-learn's implementation of the cross-validation with yours."
   ]
  },
  {
   "cell_type": "code",
   "execution_count": null,
   "metadata": {},
   "outputs": [],
   "source": [
    "gnb = GaussianNB()\n",
    "skf = model_selection.StratifiedKFold(5, shuffle=True, random_state=91)\n",
    "\n",
    "# Compute the cross-validation accuracy using model_selection.cross_val_predict\n",
    "y_pred_sk = model_selection.cross_val_predict(# TODO\n",
    "     )\n",
    "print(\"Cross-validated accuracy: %.3f\" %  metrics.accuracy_score(# TODO\n",
    "     ))\n",
    "\n",
    "# Compute the cross-validation accuracy using your own cross_validate function\n",
    "y_prob_cv = cross_validate(# TODO\n",
    "    )\n",
    "# Transform y_prob_cv into a vector of binary predictions\n",
    "y_pred_perso = # TODO \n",
    "print(\"Cross-validated accuracy: %.3f\" %  metrics.accuracy_score(# TODO\n",
    "     ))"
   ]
  },
  {
   "cell_type": "markdown",
   "metadata": {},
   "source": [
    "__Question:__ Does stratifying the cross-validation make a difference?"
   ]
  },
  {
   "cell_type": "markdown",
   "metadata": {},
   "source": [
    "__Answer:__"
   ]
  },
  {
   "cell_type": "code",
   "execution_count": null,
   "metadata": {
    "collapsed": true
   },
   "outputs": [],
   "source": []
  }
 ],
 "metadata": {
  "kernelspec": {
   "display_name": "Python 3",
   "language": "python",
   "name": "python3"
  },
  "language_info": {
   "codemirror_mode": {
    "name": "ipython",
    "version": 3
   },
   "file_extension": ".py",
   "mimetype": "text/x-python",
   "name": "python",
   "nbconvert_exporter": "python",
   "pygments_lexer": "ipython3",
   "version": "3.6.2"
  }
 },
 "nbformat": 4,
 "nbformat_minor": 2
}
